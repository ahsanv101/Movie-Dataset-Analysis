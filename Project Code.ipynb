{
 "cells": [
  {
   "cell_type": "code",
   "execution_count": 29,
   "metadata": {
    "_cell_guid": "7da7ec20-ba9f-4806-bf4b-dfd36f1e308b",
    "_uuid": "d2b3e1bc447f0b359d863af1de61e56f4e2c8e26"
   },
   "outputs": [],
   "source": [
    "%matplotlib inline\n",
    "from IPython.display import Image, HTML\n",
    "import json\n",
    "import datetime\n",
    "import ast\n",
    "import pandas as pd\n",
    "import matplotlib.pyplot as plt\n",
    "import seaborn as sns\n",
    "import numpy as np\n",
    "from scipy import stats\n",
    "from sklearn.ensemble import GradientBoostingClassifier, GradientBoostingRegressor\n",
    "from sklearn.dummy import DummyClassifier, DummyRegressor\n",
    "from sklearn.model_selection import train_test_split\n",
    "\n",
    "import warnings\n",
    "warnings.filterwarnings('ignore')\n",
    "\n",
    "sns.set_style('whitegrid')\n",
    "sns.set(font_scale=1.25)\n",
    "pd.set_option('display.max_colwidth', 50)"
   ]
  },
  {
   "cell_type": "code",
   "execution_count": 30,
   "metadata": {
    "_cell_guid": "802ba741-2c66-420c-bd74-afc45a49a4c1",
    "_uuid": "930e0aa58d8c885194b3c84e61e4e2393f87a675"
   },
   "outputs": [
    {
     "data": {
      "text/html": [
       "<div>\n",
       "<style scoped>\n",
       "    .dataframe tbody tr th:only-of-type {\n",
       "        vertical-align: middle;\n",
       "    }\n",
       "\n",
       "    .dataframe tbody tr th {\n",
       "        vertical-align: top;\n",
       "    }\n",
       "\n",
       "    .dataframe thead th {\n",
       "        text-align: right;\n",
       "    }\n",
       "</style>\n",
       "<table border=\"1\" class=\"dataframe\">\n",
       "  <thead>\n",
       "    <tr style=\"text-align: right;\">\n",
       "      <th></th>\n",
       "      <th>0</th>\n",
       "      <th>1</th>\n",
       "      <th>2</th>\n",
       "      <th>3</th>\n",
       "      <th>4</th>\n",
       "    </tr>\n",
       "  </thead>\n",
       "  <tbody>\n",
       "    <tr>\n",
       "      <th>adult</th>\n",
       "      <td>False</td>\n",
       "      <td>False</td>\n",
       "      <td>False</td>\n",
       "      <td>False</td>\n",
       "      <td>False</td>\n",
       "    </tr>\n",
       "    <tr>\n",
       "      <th>belongs_to_collection</th>\n",
       "      <td>{'id': 10194, 'name': 'Toy Story Collection', ...</td>\n",
       "      <td>NaN</td>\n",
       "      <td>{'id': 119050, 'name': 'Grumpy Old Men Collect...</td>\n",
       "      <td>NaN</td>\n",
       "      <td>{'id': 96871, 'name': 'Father of the Bride Col...</td>\n",
       "    </tr>\n",
       "    <tr>\n",
       "      <th>budget</th>\n",
       "      <td>30000000</td>\n",
       "      <td>65000000</td>\n",
       "      <td>0</td>\n",
       "      <td>16000000</td>\n",
       "      <td>0</td>\n",
       "    </tr>\n",
       "    <tr>\n",
       "      <th>genres</th>\n",
       "      <td>[{'id': 16, 'name': 'Animation'}, {'id': 35, '...</td>\n",
       "      <td>[{'id': 12, 'name': 'Adventure'}, {'id': 14, '...</td>\n",
       "      <td>[{'id': 10749, 'name': 'Romance'}, {'id': 35, ...</td>\n",
       "      <td>[{'id': 35, 'name': 'Comedy'}, {'id': 18, 'nam...</td>\n",
       "      <td>[{'id': 35, 'name': 'Comedy'}]</td>\n",
       "    </tr>\n",
       "    <tr>\n",
       "      <th>homepage</th>\n",
       "      <td>http://toystory.disney.com/toy-story</td>\n",
       "      <td>NaN</td>\n",
       "      <td>NaN</td>\n",
       "      <td>NaN</td>\n",
       "      <td>NaN</td>\n",
       "    </tr>\n",
       "    <tr>\n",
       "      <th>id</th>\n",
       "      <td>862</td>\n",
       "      <td>8844</td>\n",
       "      <td>15602</td>\n",
       "      <td>31357</td>\n",
       "      <td>11862</td>\n",
       "    </tr>\n",
       "    <tr>\n",
       "      <th>imdb_id</th>\n",
       "      <td>tt0114709</td>\n",
       "      <td>tt0113497</td>\n",
       "      <td>tt0113228</td>\n",
       "      <td>tt0114885</td>\n",
       "      <td>tt0113041</td>\n",
       "    </tr>\n",
       "    <tr>\n",
       "      <th>original_language</th>\n",
       "      <td>en</td>\n",
       "      <td>en</td>\n",
       "      <td>en</td>\n",
       "      <td>en</td>\n",
       "      <td>en</td>\n",
       "    </tr>\n",
       "    <tr>\n",
       "      <th>original_title</th>\n",
       "      <td>Toy Story</td>\n",
       "      <td>Jumanji</td>\n",
       "      <td>Grumpier Old Men</td>\n",
       "      <td>Waiting to Exhale</td>\n",
       "      <td>Father of the Bride Part II</td>\n",
       "    </tr>\n",
       "    <tr>\n",
       "      <th>overview</th>\n",
       "      <td>Led by Woody, Andy's toys live happily in his ...</td>\n",
       "      <td>When siblings Judy and Peter discover an encha...</td>\n",
       "      <td>A family wedding reignites the ancient feud be...</td>\n",
       "      <td>Cheated on, mistreated and stepped on, the wom...</td>\n",
       "      <td>Just when George Banks has recovered from his ...</td>\n",
       "    </tr>\n",
       "    <tr>\n",
       "      <th>popularity</th>\n",
       "      <td>21.9469</td>\n",
       "      <td>17.0155</td>\n",
       "      <td>11.7129</td>\n",
       "      <td>3.85949</td>\n",
       "      <td>8.38752</td>\n",
       "    </tr>\n",
       "    <tr>\n",
       "      <th>poster_path</th>\n",
       "      <td>/rhIRbceoE9lR4veEXuwCC2wARtG.jpg</td>\n",
       "      <td>/vzmL6fP7aPKNKPRTFnZmiUfciyV.jpg</td>\n",
       "      <td>/6ksm1sjKMFLbO7UY2i6G1ju9SML.jpg</td>\n",
       "      <td>/16XOMpEaLWkrcPqSQqhTmeJuqQl.jpg</td>\n",
       "      <td>/e64sOI48hQXyru7naBFyssKFxVd.jpg</td>\n",
       "    </tr>\n",
       "    <tr>\n",
       "      <th>production_companies</th>\n",
       "      <td>[{'name': 'Pixar Animation Studios', 'id': 3}]</td>\n",
       "      <td>[{'name': 'TriStar Pictures', 'id': 559}, {'na...</td>\n",
       "      <td>[{'name': 'Warner Bros.', 'id': 6194}, {'name'...</td>\n",
       "      <td>[{'name': 'Twentieth Century Fox Film Corporat...</td>\n",
       "      <td>[{'name': 'Sandollar Productions', 'id': 5842}...</td>\n",
       "    </tr>\n",
       "    <tr>\n",
       "      <th>production_countries</th>\n",
       "      <td>[{'iso_3166_1': 'US', 'name': 'United States o...</td>\n",
       "      <td>[{'iso_3166_1': 'US', 'name': 'United States o...</td>\n",
       "      <td>[{'iso_3166_1': 'US', 'name': 'United States o...</td>\n",
       "      <td>[{'iso_3166_1': 'US', 'name': 'United States o...</td>\n",
       "      <td>[{'iso_3166_1': 'US', 'name': 'United States o...</td>\n",
       "    </tr>\n",
       "    <tr>\n",
       "      <th>release_date</th>\n",
       "      <td>1995-10-30</td>\n",
       "      <td>1995-12-15</td>\n",
       "      <td>1995-12-22</td>\n",
       "      <td>1995-12-22</td>\n",
       "      <td>1995-02-10</td>\n",
       "    </tr>\n",
       "    <tr>\n",
       "      <th>revenue</th>\n",
       "      <td>3.73554e+08</td>\n",
       "      <td>2.62797e+08</td>\n",
       "      <td>0</td>\n",
       "      <td>8.14522e+07</td>\n",
       "      <td>7.65789e+07</td>\n",
       "    </tr>\n",
       "    <tr>\n",
       "      <th>runtime</th>\n",
       "      <td>81</td>\n",
       "      <td>104</td>\n",
       "      <td>101</td>\n",
       "      <td>127</td>\n",
       "      <td>106</td>\n",
       "    </tr>\n",
       "    <tr>\n",
       "      <th>spoken_languages</th>\n",
       "      <td>[{'iso_639_1': 'en', 'name': 'English'}]</td>\n",
       "      <td>[{'iso_639_1': 'en', 'name': 'English'}, {'iso...</td>\n",
       "      <td>[{'iso_639_1': 'en', 'name': 'English'}]</td>\n",
       "      <td>[{'iso_639_1': 'en', 'name': 'English'}]</td>\n",
       "      <td>[{'iso_639_1': 'en', 'name': 'English'}]</td>\n",
       "    </tr>\n",
       "    <tr>\n",
       "      <th>status</th>\n",
       "      <td>Released</td>\n",
       "      <td>Released</td>\n",
       "      <td>Released</td>\n",
       "      <td>Released</td>\n",
       "      <td>Released</td>\n",
       "    </tr>\n",
       "    <tr>\n",
       "      <th>tagline</th>\n",
       "      <td>NaN</td>\n",
       "      <td>Roll the dice and unleash the excitement!</td>\n",
       "      <td>Still Yelling. Still Fighting. Still Ready for...</td>\n",
       "      <td>Friends are the people who let you be yourself...</td>\n",
       "      <td>Just When His World Is Back To Normal... He's ...</td>\n",
       "    </tr>\n",
       "    <tr>\n",
       "      <th>title</th>\n",
       "      <td>Toy Story</td>\n",
       "      <td>Jumanji</td>\n",
       "      <td>Grumpier Old Men</td>\n",
       "      <td>Waiting to Exhale</td>\n",
       "      <td>Father of the Bride Part II</td>\n",
       "    </tr>\n",
       "    <tr>\n",
       "      <th>video</th>\n",
       "      <td>False</td>\n",
       "      <td>False</td>\n",
       "      <td>False</td>\n",
       "      <td>False</td>\n",
       "      <td>False</td>\n",
       "    </tr>\n",
       "    <tr>\n",
       "      <th>vote_average</th>\n",
       "      <td>7.7</td>\n",
       "      <td>6.9</td>\n",
       "      <td>6.5</td>\n",
       "      <td>6.1</td>\n",
       "      <td>5.7</td>\n",
       "    </tr>\n",
       "    <tr>\n",
       "      <th>vote_count</th>\n",
       "      <td>5415</td>\n",
       "      <td>2413</td>\n",
       "      <td>92</td>\n",
       "      <td>34</td>\n",
       "      <td>173</td>\n",
       "    </tr>\n",
       "  </tbody>\n",
       "</table>\n",
       "</div>"
      ],
      "text/plain": [
       "                                                                       0  \\\n",
       "adult                                                              False   \n",
       "belongs_to_collection  {'id': 10194, 'name': 'Toy Story Collection', ...   \n",
       "budget                                                          30000000   \n",
       "genres                 [{'id': 16, 'name': 'Animation'}, {'id': 35, '...   \n",
       "homepage                            http://toystory.disney.com/toy-story   \n",
       "id                                                                   862   \n",
       "imdb_id                                                        tt0114709   \n",
       "original_language                                                     en   \n",
       "original_title                                                 Toy Story   \n",
       "overview               Led by Woody, Andy's toys live happily in his ...   \n",
       "popularity                                                       21.9469   \n",
       "poster_path                             /rhIRbceoE9lR4veEXuwCC2wARtG.jpg   \n",
       "production_companies      [{'name': 'Pixar Animation Studios', 'id': 3}]   \n",
       "production_countries   [{'iso_3166_1': 'US', 'name': 'United States o...   \n",
       "release_date                                                  1995-10-30   \n",
       "revenue                                                      3.73554e+08   \n",
       "runtime                                                               81   \n",
       "spoken_languages                [{'iso_639_1': 'en', 'name': 'English'}]   \n",
       "status                                                          Released   \n",
       "tagline                                                              NaN   \n",
       "title                                                          Toy Story   \n",
       "video                                                              False   \n",
       "vote_average                                                         7.7   \n",
       "vote_count                                                          5415   \n",
       "\n",
       "                                                                       1  \\\n",
       "adult                                                              False   \n",
       "belongs_to_collection                                                NaN   \n",
       "budget                                                          65000000   \n",
       "genres                 [{'id': 12, 'name': 'Adventure'}, {'id': 14, '...   \n",
       "homepage                                                             NaN   \n",
       "id                                                                  8844   \n",
       "imdb_id                                                        tt0113497   \n",
       "original_language                                                     en   \n",
       "original_title                                                   Jumanji   \n",
       "overview               When siblings Judy and Peter discover an encha...   \n",
       "popularity                                                       17.0155   \n",
       "poster_path                             /vzmL6fP7aPKNKPRTFnZmiUfciyV.jpg   \n",
       "production_companies   [{'name': 'TriStar Pictures', 'id': 559}, {'na...   \n",
       "production_countries   [{'iso_3166_1': 'US', 'name': 'United States o...   \n",
       "release_date                                                  1995-12-15   \n",
       "revenue                                                      2.62797e+08   \n",
       "runtime                                                              104   \n",
       "spoken_languages       [{'iso_639_1': 'en', 'name': 'English'}, {'iso...   \n",
       "status                                                          Released   \n",
       "tagline                        Roll the dice and unleash the excitement!   \n",
       "title                                                            Jumanji   \n",
       "video                                                              False   \n",
       "vote_average                                                         6.9   \n",
       "vote_count                                                          2413   \n",
       "\n",
       "                                                                       2  \\\n",
       "adult                                                              False   \n",
       "belongs_to_collection  {'id': 119050, 'name': 'Grumpy Old Men Collect...   \n",
       "budget                                                                 0   \n",
       "genres                 [{'id': 10749, 'name': 'Romance'}, {'id': 35, ...   \n",
       "homepage                                                             NaN   \n",
       "id                                                                 15602   \n",
       "imdb_id                                                        tt0113228   \n",
       "original_language                                                     en   \n",
       "original_title                                          Grumpier Old Men   \n",
       "overview               A family wedding reignites the ancient feud be...   \n",
       "popularity                                                       11.7129   \n",
       "poster_path                             /6ksm1sjKMFLbO7UY2i6G1ju9SML.jpg   \n",
       "production_companies   [{'name': 'Warner Bros.', 'id': 6194}, {'name'...   \n",
       "production_countries   [{'iso_3166_1': 'US', 'name': 'United States o...   \n",
       "release_date                                                  1995-12-22   \n",
       "revenue                                                                0   \n",
       "runtime                                                              101   \n",
       "spoken_languages                [{'iso_639_1': 'en', 'name': 'English'}]   \n",
       "status                                                          Released   \n",
       "tagline                Still Yelling. Still Fighting. Still Ready for...   \n",
       "title                                                   Grumpier Old Men   \n",
       "video                                                              False   \n",
       "vote_average                                                         6.5   \n",
       "vote_count                                                            92   \n",
       "\n",
       "                                                                       3  \\\n",
       "adult                                                              False   \n",
       "belongs_to_collection                                                NaN   \n",
       "budget                                                          16000000   \n",
       "genres                 [{'id': 35, 'name': 'Comedy'}, {'id': 18, 'nam...   \n",
       "homepage                                                             NaN   \n",
       "id                                                                 31357   \n",
       "imdb_id                                                        tt0114885   \n",
       "original_language                                                     en   \n",
       "original_title                                         Waiting to Exhale   \n",
       "overview               Cheated on, mistreated and stepped on, the wom...   \n",
       "popularity                                                       3.85949   \n",
       "poster_path                             /16XOMpEaLWkrcPqSQqhTmeJuqQl.jpg   \n",
       "production_companies   [{'name': 'Twentieth Century Fox Film Corporat...   \n",
       "production_countries   [{'iso_3166_1': 'US', 'name': 'United States o...   \n",
       "release_date                                                  1995-12-22   \n",
       "revenue                                                      8.14522e+07   \n",
       "runtime                                                              127   \n",
       "spoken_languages                [{'iso_639_1': 'en', 'name': 'English'}]   \n",
       "status                                                          Released   \n",
       "tagline                Friends are the people who let you be yourself...   \n",
       "title                                                  Waiting to Exhale   \n",
       "video                                                              False   \n",
       "vote_average                                                         6.1   \n",
       "vote_count                                                            34   \n",
       "\n",
       "                                                                       4  \n",
       "adult                                                              False  \n",
       "belongs_to_collection  {'id': 96871, 'name': 'Father of the Bride Col...  \n",
       "budget                                                                 0  \n",
       "genres                                    [{'id': 35, 'name': 'Comedy'}]  \n",
       "homepage                                                             NaN  \n",
       "id                                                                 11862  \n",
       "imdb_id                                                        tt0113041  \n",
       "original_language                                                     en  \n",
       "original_title                               Father of the Bride Part II  \n",
       "overview               Just when George Banks has recovered from his ...  \n",
       "popularity                                                       8.38752  \n",
       "poster_path                             /e64sOI48hQXyru7naBFyssKFxVd.jpg  \n",
       "production_companies   [{'name': 'Sandollar Productions', 'id': 5842}...  \n",
       "production_countries   [{'iso_3166_1': 'US', 'name': 'United States o...  \n",
       "release_date                                                  1995-02-10  \n",
       "revenue                                                      7.65789e+07  \n",
       "runtime                                                              106  \n",
       "spoken_languages                [{'iso_639_1': 'en', 'name': 'English'}]  \n",
       "status                                                          Released  \n",
       "tagline                Just When His World Is Back To Normal... He's ...  \n",
       "title                                        Father of the Bride Part II  \n",
       "video                                                              False  \n",
       "vote_average                                                         5.7  \n",
       "vote_count                                                           173  "
      ]
     },
     "execution_count": 30,
     "metadata": {},
     "output_type": "execute_result"
    }
   ],
   "source": [
    "df = pd.read_csv('movies_metadata.csv')\n",
    "df.head().transpose()"
   ]
  },
  {
   "cell_type": "code",
   "execution_count": 31,
   "metadata": {
    "_cell_guid": "3ceab5e0-f8fa-4886-92fb-3143ebefae04",
    "_uuid": "07bd1632794fd3b0894b937c11889683d4170b36"
   },
   "outputs": [
    {
     "data": {
      "text/plain": [
       "Index(['adult', 'belongs_to_collection', 'budget', 'genres', 'homepage', 'id',\n",
       "       'imdb_id', 'original_language', 'original_title', 'overview',\n",
       "       'popularity', 'poster_path', 'production_companies',\n",
       "       'production_countries', 'release_date', 'revenue', 'runtime',\n",
       "       'spoken_languages', 'status', 'tagline', 'title', 'video',\n",
       "       'vote_average', 'vote_count'],\n",
       "      dtype='object')"
      ]
     },
     "execution_count": 31,
     "metadata": {},
     "output_type": "execute_result"
    }
   ],
   "source": [
    "df.columns"
   ]
  },
  {
   "cell_type": "code",
   "execution_count": 32,
   "metadata": {
    "_cell_guid": "f2c73762-4cdf-43ae-b9be-a1c138996f40",
    "_uuid": "83cf27cc41b34a9e26b439b05d10dc6008451911"
   },
   "outputs": [
    {
     "data": {
      "text/plain": [
       "(45466, 24)"
      ]
     },
     "execution_count": 32,
     "metadata": {},
     "output_type": "execute_result"
    }
   ],
   "source": [
    "df.shape"
   ]
  },
  {
   "cell_type": "code",
   "execution_count": 33,
   "metadata": {
    "_cell_guid": "2aa45102-eb7d-4654-a381-910c9fb2a9b2",
    "_uuid": "767b6372ddc8ac76d1e59fed5002669606770245"
   },
   "outputs": [
    {
     "name": "stdout",
     "output_type": "stream",
     "text": [
      "<class 'pandas.core.frame.DataFrame'>\n",
      "RangeIndex: 45466 entries, 0 to 45465\n",
      "Data columns (total 24 columns):\n",
      "adult                    45466 non-null object\n",
      "belongs_to_collection    4494 non-null object\n",
      "budget                   45466 non-null object\n",
      "genres                   45466 non-null object\n",
      "homepage                 7782 non-null object\n",
      "id                       45466 non-null object\n",
      "imdb_id                  45449 non-null object\n",
      "original_language        45455 non-null object\n",
      "original_title           45466 non-null object\n",
      "overview                 44512 non-null object\n",
      "popularity               45461 non-null object\n",
      "poster_path              45080 non-null object\n",
      "production_companies     45463 non-null object\n",
      "production_countries     45463 non-null object\n",
      "release_date             45379 non-null object\n",
      "revenue                  45460 non-null float64\n",
      "runtime                  45203 non-null float64\n",
      "spoken_languages         45460 non-null object\n",
      "status                   45379 non-null object\n",
      "tagline                  20412 non-null object\n",
      "title                    45460 non-null object\n",
      "video                    45460 non-null object\n",
      "vote_average             45460 non-null float64\n",
      "vote_count               45460 non-null float64\n",
      "dtypes: float64(4), object(20)\n",
      "memory usage: 8.3+ MB\n"
     ]
    }
   ],
   "source": [
    "df.info()"
   ]
  },
  {
   "cell_type": "code",
   "execution_count": 34,
   "metadata": {
    "_cell_guid": "15fa55a6-7a6c-4531-84b9-7ced47ced5af",
    "_uuid": "c592fd468ad5d02e9ce032155a71e635ce5ba7ec"
   },
   "outputs": [],
   "source": [
    "df = df.drop(['imdb_id'], axis=1)"
   ]
  },
  {
   "cell_type": "code",
   "execution_count": 35,
   "metadata": {
    "_cell_guid": "29bf4898-a176-499c-9075-979009129fdc",
    "_uuid": "1e8fb4684602fecd1ada5734003cc888ad70497f",
    "scrolled": true
   },
   "outputs": [
    {
     "data": {
      "text/html": [
       "<div>\n",
       "<style scoped>\n",
       "    .dataframe tbody tr th:only-of-type {\n",
       "        vertical-align: middle;\n",
       "    }\n",
       "\n",
       "    .dataframe tbody tr th {\n",
       "        vertical-align: top;\n",
       "    }\n",
       "\n",
       "    .dataframe thead th {\n",
       "        text-align: right;\n",
       "    }\n",
       "</style>\n",
       "<table border=\"1\" class=\"dataframe\">\n",
       "  <thead>\n",
       "    <tr style=\"text-align: right;\">\n",
       "      <th></th>\n",
       "      <th>title</th>\n",
       "      <th>original_title</th>\n",
       "    </tr>\n",
       "  </thead>\n",
       "  <tbody>\n",
       "    <tr>\n",
       "      <th>28</th>\n",
       "      <td>The City of Lost Children</td>\n",
       "      <td>La Cité des Enfants Perdus</td>\n",
       "    </tr>\n",
       "    <tr>\n",
       "      <th>29</th>\n",
       "      <td>Shanghai Triad</td>\n",
       "      <td>摇啊摇，摇到外婆桥</td>\n",
       "    </tr>\n",
       "    <tr>\n",
       "      <th>32</th>\n",
       "      <td>Wings of Courage</td>\n",
       "      <td>Guillaumet, les ailes du courage</td>\n",
       "    </tr>\n",
       "    <tr>\n",
       "      <th>57</th>\n",
       "      <td>The Postman</td>\n",
       "      <td>Il postino</td>\n",
       "    </tr>\n",
       "    <tr>\n",
       "      <th>58</th>\n",
       "      <td>The Confessional</td>\n",
       "      <td>Le confessionnal</td>\n",
       "    </tr>\n",
       "  </tbody>\n",
       "</table>\n",
       "</div>"
      ],
      "text/plain": [
       "                        title                    original_title\n",
       "28  The City of Lost Children        La Cité des Enfants Perdus\n",
       "29             Shanghai Triad                         摇啊摇，摇到外婆桥\n",
       "32           Wings of Courage  Guillaumet, les ailes du courage\n",
       "57                The Postman                        Il postino\n",
       "58           The Confessional                  Le confessionnal"
      ]
     },
     "execution_count": 35,
     "metadata": {},
     "output_type": "execute_result"
    }
   ],
   "source": [
    "df[df['original_title'] != df['title']][['title', 'original_title']].head()"
   ]
  },
  {
   "cell_type": "code",
   "execution_count": 36,
   "metadata": {
    "_cell_guid": "03c5007b-7b88-4f70-a385-c272bd0efa6c",
    "_uuid": "3787bf20b8216af5e7db885efe72ffc14df532e3"
   },
   "outputs": [],
   "source": [
    "df = df.drop('original_title', axis=1)"
   ]
  },
  {
   "cell_type": "code",
   "execution_count": 37,
   "metadata": {
    "_cell_guid": "e2ef36e1-ab26-4c3f-8a08-e0f8d1e4a97d",
    "_uuid": "3d6a11854e9953c449888c63c779abd3b413aacb"
   },
   "outputs": [
    {
     "data": {
      "text/plain": [
       "(38052, 22)"
      ]
     },
     "execution_count": 37,
     "metadata": {},
     "output_type": "execute_result"
    }
   ],
   "source": [
    "df[df['revenue'] == 0].shape"
   ]
  },
  {
   "cell_type": "code",
   "execution_count": 38,
   "metadata": {
    "_cell_guid": "7d2e9124-a792-4c4b-af0e-fd27b9291496",
    "_uuid": "65f1ef9699df66653b5deb14caf6f2c665d19bc8"
   },
   "outputs": [],
   "source": [
    "df['revenue'] = df['revenue'].replace(0, np.nan)"
   ]
  },
  {
   "cell_type": "code",
   "execution_count": 39,
   "metadata": {
    "_cell_guid": "930646b1-88ed-4998-80d9-38a14c7b14f2",
    "_uuid": "de9dcfb4a1e37b62dc8d9613d298d015a5406ef5"
   },
   "outputs": [
    {
     "data": {
      "text/plain": [
       "(36576, 22)"
      ]
     },
     "execution_count": 39,
     "metadata": {},
     "output_type": "execute_result"
    }
   ],
   "source": [
    "df['budget'] = pd.to_numeric(df['budget'], errors='coerce')\n",
    "df['budget'] = df['budget'].replace(0, np.nan)\n",
    "df[df['budget'].isnull()].shape"
   ]
  },
  {
   "cell_type": "code",
   "execution_count": 40,
   "metadata": {
    "_cell_guid": "f464aebd-d03d-49ea-972a-fc4e0dfa5841",
    "_uuid": "b77978c2209bdf040d07ca4ca2cb438df8cd582f"
   },
   "outputs": [
    {
     "data": {
      "text/plain": [
       "(40085, 23)"
      ]
     },
     "execution_count": 40,
     "metadata": {},
     "output_type": "execute_result"
    }
   ],
   "source": [
    "df['return'] = df['revenue'] / df['budget']\n",
    "df[df['return'].isnull()].shape"
   ]
  },
  {
   "cell_type": "code",
   "execution_count": 41,
   "metadata": {
    "_cell_guid": "38298607-dc40-4ecc-8068-eab3d2d28846",
    "_uuid": "9ac209eed85041c467586d7e7a53be5d2b81a4bd"
   },
   "outputs": [],
   "source": [
    "df['year'] = pd.to_datetime(df['release_date'], errors='coerce').apply(lambda x: str(x).split('-')[0] if x != np.nan else np.nan)"
   ]
  },
  {
   "cell_type": "code",
   "execution_count": 42,
   "metadata": {
    "_cell_guid": "b410981b-57e7-40e9-8269-e19dd508e8e1",
    "_uuid": "fce37751a31615e8c821b4e46b6c7f36d270a8aa"
   },
   "outputs": [],
   "source": [
    "df = df.drop('adult', axis=1)"
   ]
  },
  {
   "cell_type": "code",
   "execution_count": 43,
   "metadata": {
    "_cell_guid": "3b95edee-5832-48e9-8a74-1fffee55bb03",
    "_uuid": "cea96a3f1e3634c02e5b8c6a87e5cb62539ea2b8"
   },
   "outputs": [],
   "source": [
    "base_poster_url = 'http://image.tmdb.org/t/p/w185/'\n",
    "df['poster_path'] = \"<img src='\" + base_poster_url + df['poster_path'] + \"' style='height:100px;'>\""
   ]
  },
  {
   "cell_type": "code",
   "execution_count": 44,
   "metadata": {
    "_cell_guid": "925be64f-6ac4-42e5-8a29-d8d1877004a3",
    "_uuid": "0285d463d7fe21da1e7a3a8f9b55857a1d4bf3a6"
   },
   "outputs": [],
   "source": [
    "df['title'] = df['title'].astype('str')\n",
    "df['overview'] = df['overview'].astype('str')"
   ]
  },
  {
   "cell_type": "code",
   "execution_count": 46,
   "metadata": {
    "_cell_guid": "e93627c3-a10c-45e0-904e-a4a59a682bd7",
    "_uuid": "13eed9ee078ec2de7e5fe964ac4996a69cc65278"
   },
   "outputs": [],
   "source": [
    "df['production_countries'] = df['production_countries'].fillna('[]').apply(ast.literal_eval)\n",
    "df['production_countries'] = df['production_countries'].apply(lambda x: [i['name'] for i in x] if isinstance(x, list) else [])"
   ]
  },
  {
   "cell_type": "code",
   "execution_count": 47,
   "metadata": {
    "_cell_guid": "909d09b8-cbf2-4951-81dd-cbc6641ce940",
    "_uuid": "33373ac323077d77fb9e849f064d40b7f3f761d8"
   },
   "outputs": [],
   "source": [
    "s = df.apply(lambda x: pd.Series(x['production_countries']),axis=1).stack().reset_index(level=1, drop=True)\n",
    "s.name = 'countries'"
   ]
  },
  {
   "cell_type": "code",
   "execution_count": 48,
   "metadata": {
    "_cell_guid": "529e50b7-f811-4d00-9184-b44d184b824c",
    "_uuid": "4b6279f52fa0da506d4fb4e877c538d44433099a"
   },
   "outputs": [],
   "source": [
    "df_fran = df[df['belongs_to_collection'].notnull()]\n",
    "df_fran['belongs_to_collection'] = df_fran['belongs_to_collection'].apply(ast.literal_eval).apply(lambda x: x['name'] if isinstance(x, dict) else np.nan)\n",
    "df_fran = df_fran[df_fran['belongs_to_collection'].notnull()]"
   ]
  },
  {
   "cell_type": "code",
   "execution_count": 49,
   "metadata": {
    "_cell_guid": "660fc21b-7100-4689-a179-0f0d184a5252",
    "_uuid": "2be5874cd42a8730b9a2e8f0ecb4f7fedffe4c2f"
   },
   "outputs": [],
   "source": [
    "fran_pivot = df_fran.pivot_table(index='belongs_to_collection', values='revenue', aggfunc={'revenue': ['mean', 'sum', 'count']}).reset_index()"
   ]
  },
  {
   "cell_type": "code",
   "execution_count": 50,
   "metadata": {
    "_cell_guid": "118a22cf-bfc5-4aeb-aeca-9a94e1717ddb",
    "_uuid": "3e29009096eda90a10d02cd3a18dc7afcc88fbff"
   },
   "outputs": [
    {
     "data": {
      "text/html": [
       "<div>\n",
       "<style scoped>\n",
       "    .dataframe tbody tr th:only-of-type {\n",
       "        vertical-align: middle;\n",
       "    }\n",
       "\n",
       "    .dataframe tbody tr th {\n",
       "        vertical-align: top;\n",
       "    }\n",
       "\n",
       "    .dataframe thead th {\n",
       "        text-align: right;\n",
       "    }\n",
       "</style>\n",
       "<table border=\"1\" class=\"dataframe\">\n",
       "  <thead>\n",
       "    <tr style=\"text-align: right;\">\n",
       "      <th></th>\n",
       "      <th>belongs_to_collection</th>\n",
       "      <th>count</th>\n",
       "      <th>mean</th>\n",
       "      <th>sum</th>\n",
       "    </tr>\n",
       "  </thead>\n",
       "  <tbody>\n",
       "    <tr>\n",
       "      <th>552</th>\n",
       "      <td>Harry Potter Collection</td>\n",
       "      <td>8</td>\n",
       "      <td>9.634209e+08</td>\n",
       "      <td>7.707367e+09</td>\n",
       "    </tr>\n",
       "    <tr>\n",
       "      <th>1160</th>\n",
       "      <td>Star Wars Collection</td>\n",
       "      <td>8</td>\n",
       "      <td>9.293118e+08</td>\n",
       "      <td>7.434495e+09</td>\n",
       "    </tr>\n",
       "    <tr>\n",
       "      <th>646</th>\n",
       "      <td>James Bond Collection</td>\n",
       "      <td>26</td>\n",
       "      <td>2.733450e+08</td>\n",
       "      <td>7.106970e+09</td>\n",
       "    </tr>\n",
       "    <tr>\n",
       "      <th>1317</th>\n",
       "      <td>The Fast and the Furious Collection</td>\n",
       "      <td>8</td>\n",
       "      <td>6.406373e+08</td>\n",
       "      <td>5.125099e+09</td>\n",
       "    </tr>\n",
       "    <tr>\n",
       "      <th>968</th>\n",
       "      <td>Pirates of the Caribbean Collection</td>\n",
       "      <td>5</td>\n",
       "      <td>9.043154e+08</td>\n",
       "      <td>4.521577e+09</td>\n",
       "    </tr>\n",
       "    <tr>\n",
       "      <th>1550</th>\n",
       "      <td>Transformers Collection</td>\n",
       "      <td>5</td>\n",
       "      <td>8.732202e+08</td>\n",
       "      <td>4.366101e+09</td>\n",
       "    </tr>\n",
       "    <tr>\n",
       "      <th>325</th>\n",
       "      <td>Despicable Me Collection</td>\n",
       "      <td>4</td>\n",
       "      <td>9.227676e+08</td>\n",
       "      <td>3.691070e+09</td>\n",
       "    </tr>\n",
       "    <tr>\n",
       "      <th>1491</th>\n",
       "      <td>The Twilight Collection</td>\n",
       "      <td>5</td>\n",
       "      <td>6.684215e+08</td>\n",
       "      <td>3.342107e+09</td>\n",
       "    </tr>\n",
       "    <tr>\n",
       "      <th>610</th>\n",
       "      <td>Ice Age Collection</td>\n",
       "      <td>5</td>\n",
       "      <td>6.433417e+08</td>\n",
       "      <td>3.216709e+09</td>\n",
       "    </tr>\n",
       "    <tr>\n",
       "      <th>666</th>\n",
       "      <td>Jurassic Park Collection</td>\n",
       "      <td>4</td>\n",
       "      <td>7.578710e+08</td>\n",
       "      <td>3.031484e+09</td>\n",
       "    </tr>\n",
       "    <tr>\n",
       "      <th>1111</th>\n",
       "      <td>Shrek Collection</td>\n",
       "      <td>4</td>\n",
       "      <td>7.389518e+08</td>\n",
       "      <td>2.955807e+09</td>\n",
       "    </tr>\n",
       "    <tr>\n",
       "      <th>1359</th>\n",
       "      <td>The Hunger Games Collection</td>\n",
       "      <td>4</td>\n",
       "      <td>7.360407e+08</td>\n",
       "      <td>2.944163e+09</td>\n",
       "    </tr>\n",
       "    <tr>\n",
       "      <th>1352</th>\n",
       "      <td>The Hobbit Collection</td>\n",
       "      <td>3</td>\n",
       "      <td>9.785078e+08</td>\n",
       "      <td>2.935523e+09</td>\n",
       "    </tr>\n",
       "    <tr>\n",
       "      <th>1245</th>\n",
       "      <td>The Avengers Collection</td>\n",
       "      <td>2</td>\n",
       "      <td>1.462481e+09</td>\n",
       "      <td>2.924962e+09</td>\n",
       "    </tr>\n",
       "    <tr>\n",
       "      <th>1388</th>\n",
       "      <td>The Lord of the Rings Collection</td>\n",
       "      <td>3</td>\n",
       "      <td>9.721816e+08</td>\n",
       "      <td>2.916545e+09</td>\n",
       "    </tr>\n",
       "    <tr>\n",
       "      <th>1656</th>\n",
       "      <td>X-Men Collection</td>\n",
       "      <td>6</td>\n",
       "      <td>4.681387e+08</td>\n",
       "      <td>2.808832e+09</td>\n",
       "    </tr>\n",
       "    <tr>\n",
       "      <th>112</th>\n",
       "      <td>Avatar Collection</td>\n",
       "      <td>1</td>\n",
       "      <td>2.787965e+09</td>\n",
       "      <td>2.787965e+09</td>\n",
       "    </tr>\n",
       "    <tr>\n",
       "      <th>835</th>\n",
       "      <td>Mission: Impossible Collection</td>\n",
       "      <td>5</td>\n",
       "      <td>5.557956e+08</td>\n",
       "      <td>2.778978e+09</td>\n",
       "    </tr>\n",
       "    <tr>\n",
       "      <th>1146</th>\n",
       "      <td>Spider-Man Collection</td>\n",
       "      <td>3</td>\n",
       "      <td>8.321155e+08</td>\n",
       "      <td>2.496347e+09</td>\n",
       "    </tr>\n",
       "    <tr>\n",
       "      <th>1290</th>\n",
       "      <td>The Dark Knight Collection</td>\n",
       "      <td>3</td>\n",
       "      <td>8.212387e+08</td>\n",
       "      <td>2.463716e+09</td>\n",
       "    </tr>\n",
       "  </tbody>\n",
       "</table>\n",
       "</div>"
      ],
      "text/plain": [
       "                    belongs_to_collection  count          mean           sum\n",
       "552               Harry Potter Collection      8  9.634209e+08  7.707367e+09\n",
       "1160                 Star Wars Collection      8  9.293118e+08  7.434495e+09\n",
       "646                 James Bond Collection     26  2.733450e+08  7.106970e+09\n",
       "1317  The Fast and the Furious Collection      8  6.406373e+08  5.125099e+09\n",
       "968   Pirates of the Caribbean Collection      5  9.043154e+08  4.521577e+09\n",
       "1550              Transformers Collection      5  8.732202e+08  4.366101e+09\n",
       "325              Despicable Me Collection      4  9.227676e+08  3.691070e+09\n",
       "1491              The Twilight Collection      5  6.684215e+08  3.342107e+09\n",
       "610                    Ice Age Collection      5  6.433417e+08  3.216709e+09\n",
       "666              Jurassic Park Collection      4  7.578710e+08  3.031484e+09\n",
       "1111                     Shrek Collection      4  7.389518e+08  2.955807e+09\n",
       "1359          The Hunger Games Collection      4  7.360407e+08  2.944163e+09\n",
       "1352                The Hobbit Collection      3  9.785078e+08  2.935523e+09\n",
       "1245              The Avengers Collection      2  1.462481e+09  2.924962e+09\n",
       "1388     The Lord of the Rings Collection      3  9.721816e+08  2.916545e+09\n",
       "1656                     X-Men Collection      6  4.681387e+08  2.808832e+09\n",
       "112                     Avatar Collection      1  2.787965e+09  2.787965e+09\n",
       "835        Mission: Impossible Collection      5  5.557956e+08  2.778978e+09\n",
       "1146                Spider-Man Collection      3  8.321155e+08  2.496347e+09\n",
       "1290           The Dark Knight Collection      3  8.212387e+08  2.463716e+09"
      ]
     },
     "execution_count": 50,
     "metadata": {},
     "output_type": "execute_result"
    }
   ],
   "source": [
    "fran_pivot.sort_values('sum', ascending=False).head(20)"
   ]
  },
  {
   "cell_type": "code",
   "execution_count": 51,
   "metadata": {
    "_cell_guid": "95317ed4-9f69-4221-8729-2b20d6a4378d",
    "_uuid": "07474f86476e890405fac3b0a07d291c24237bc2"
   },
   "outputs": [
    {
     "data": {
      "text/html": [
       "<div>\n",
       "<style scoped>\n",
       "    .dataframe tbody tr th:only-of-type {\n",
       "        vertical-align: middle;\n",
       "    }\n",
       "\n",
       "    .dataframe tbody tr th {\n",
       "        vertical-align: top;\n",
       "    }\n",
       "\n",
       "    .dataframe thead th {\n",
       "        text-align: right;\n",
       "    }\n",
       "</style>\n",
       "<table border=\"1\" class=\"dataframe\">\n",
       "  <thead>\n",
       "    <tr style=\"text-align: right;\">\n",
       "      <th></th>\n",
       "      <th>belongs_to_collection</th>\n",
       "      <th>count</th>\n",
       "      <th>mean</th>\n",
       "      <th>sum</th>\n",
       "    </tr>\n",
       "  </thead>\n",
       "  <tbody>\n",
       "    <tr>\n",
       "      <th>112</th>\n",
       "      <td>Avatar Collection</td>\n",
       "      <td>1</td>\n",
       "      <td>2.787965e+09</td>\n",
       "      <td>2.787965e+09</td>\n",
       "    </tr>\n",
       "    <tr>\n",
       "      <th>1245</th>\n",
       "      <td>The Avengers Collection</td>\n",
       "      <td>2</td>\n",
       "      <td>1.462481e+09</td>\n",
       "      <td>2.924962e+09</td>\n",
       "    </tr>\n",
       "    <tr>\n",
       "      <th>479</th>\n",
       "      <td>Frozen Collection</td>\n",
       "      <td>1</td>\n",
       "      <td>1.274219e+09</td>\n",
       "      <td>1.274219e+09</td>\n",
       "    </tr>\n",
       "    <tr>\n",
       "      <th>446</th>\n",
       "      <td>Finding Nemo Collection</td>\n",
       "      <td>2</td>\n",
       "      <td>9.844532e+08</td>\n",
       "      <td>1.968906e+09</td>\n",
       "    </tr>\n",
       "    <tr>\n",
       "      <th>1352</th>\n",
       "      <td>The Hobbit Collection</td>\n",
       "      <td>3</td>\n",
       "      <td>9.785078e+08</td>\n",
       "      <td>2.935523e+09</td>\n",
       "    </tr>\n",
       "    <tr>\n",
       "      <th>1388</th>\n",
       "      <td>The Lord of the Rings Collection</td>\n",
       "      <td>3</td>\n",
       "      <td>9.721816e+08</td>\n",
       "      <td>2.916545e+09</td>\n",
       "    </tr>\n",
       "    <tr>\n",
       "      <th>552</th>\n",
       "      <td>Harry Potter Collection</td>\n",
       "      <td>8</td>\n",
       "      <td>9.634209e+08</td>\n",
       "      <td>7.707367e+09</td>\n",
       "    </tr>\n",
       "    <tr>\n",
       "      <th>1160</th>\n",
       "      <td>Star Wars Collection</td>\n",
       "      <td>8</td>\n",
       "      <td>9.293118e+08</td>\n",
       "      <td>7.434495e+09</td>\n",
       "    </tr>\n",
       "    <tr>\n",
       "      <th>325</th>\n",
       "      <td>Despicable Me Collection</td>\n",
       "      <td>4</td>\n",
       "      <td>9.227676e+08</td>\n",
       "      <td>3.691070e+09</td>\n",
       "    </tr>\n",
       "    <tr>\n",
       "      <th>968</th>\n",
       "      <td>Pirates of the Caribbean Collection</td>\n",
       "      <td>5</td>\n",
       "      <td>9.043154e+08</td>\n",
       "      <td>4.521577e+09</td>\n",
       "    </tr>\n",
       "    <tr>\n",
       "      <th>1457</th>\n",
       "      <td>The Secret Life of Pets Collection</td>\n",
       "      <td>1</td>\n",
       "      <td>8.754579e+08</td>\n",
       "      <td>8.754579e+08</td>\n",
       "    </tr>\n",
       "    <tr>\n",
       "      <th>1550</th>\n",
       "      <td>Transformers Collection</td>\n",
       "      <td>5</td>\n",
       "      <td>8.732202e+08</td>\n",
       "      <td>4.366101e+09</td>\n",
       "    </tr>\n",
       "    <tr>\n",
       "      <th>1146</th>\n",
       "      <td>Spider-Man Collection</td>\n",
       "      <td>3</td>\n",
       "      <td>8.321155e+08</td>\n",
       "      <td>2.496347e+09</td>\n",
       "    </tr>\n",
       "    <tr>\n",
       "      <th>1290</th>\n",
       "      <td>The Dark Knight Collection</td>\n",
       "      <td>3</td>\n",
       "      <td>8.212387e+08</td>\n",
       "      <td>2.463716e+09</td>\n",
       "    </tr>\n",
       "    <tr>\n",
       "      <th>1649</th>\n",
       "      <td>Wonder Woman Collection</td>\n",
       "      <td>1</td>\n",
       "      <td>8.205804e+08</td>\n",
       "      <td>8.205804e+08</td>\n",
       "    </tr>\n",
       "    <tr>\n",
       "      <th>530</th>\n",
       "      <td>Guardians of the Galaxy Collection</td>\n",
       "      <td>2</td>\n",
       "      <td>8.183724e+08</td>\n",
       "      <td>1.636745e+09</td>\n",
       "    </tr>\n",
       "    <tr>\n",
       "      <th>422</th>\n",
       "      <td>Fantastic Beasts Collection</td>\n",
       "      <td>1</td>\n",
       "      <td>8.093423e+08</td>\n",
       "      <td>8.093423e+08</td>\n",
       "    </tr>\n",
       "    <tr>\n",
       "      <th>635</th>\n",
       "      <td>Iron Man Collection</td>\n",
       "      <td>3</td>\n",
       "      <td>8.081825e+08</td>\n",
       "      <td>2.424548e+09</td>\n",
       "    </tr>\n",
       "    <tr>\n",
       "      <th>1383</th>\n",
       "      <td>The Lion King Collection</td>\n",
       "      <td>1</td>\n",
       "      <td>7.882418e+08</td>\n",
       "      <td>7.882418e+08</td>\n",
       "    </tr>\n",
       "    <tr>\n",
       "      <th>309</th>\n",
       "      <td>Deadpool Collection</td>\n",
       "      <td>1</td>\n",
       "      <td>7.831130e+08</td>\n",
       "      <td>7.831130e+08</td>\n",
       "    </tr>\n",
       "  </tbody>\n",
       "</table>\n",
       "</div>"
      ],
      "text/plain": [
       "                    belongs_to_collection  count          mean           sum\n",
       "112                     Avatar Collection      1  2.787965e+09  2.787965e+09\n",
       "1245              The Avengers Collection      2  1.462481e+09  2.924962e+09\n",
       "479                     Frozen Collection      1  1.274219e+09  1.274219e+09\n",
       "446               Finding Nemo Collection      2  9.844532e+08  1.968906e+09\n",
       "1352                The Hobbit Collection      3  9.785078e+08  2.935523e+09\n",
       "1388     The Lord of the Rings Collection      3  9.721816e+08  2.916545e+09\n",
       "552               Harry Potter Collection      8  9.634209e+08  7.707367e+09\n",
       "1160                 Star Wars Collection      8  9.293118e+08  7.434495e+09\n",
       "325              Despicable Me Collection      4  9.227676e+08  3.691070e+09\n",
       "968   Pirates of the Caribbean Collection      5  9.043154e+08  4.521577e+09\n",
       "1457   The Secret Life of Pets Collection      1  8.754579e+08  8.754579e+08\n",
       "1550              Transformers Collection      5  8.732202e+08  4.366101e+09\n",
       "1146                Spider-Man Collection      3  8.321155e+08  2.496347e+09\n",
       "1290           The Dark Knight Collection      3  8.212387e+08  2.463716e+09\n",
       "1649              Wonder Woman Collection      1  8.205804e+08  8.205804e+08\n",
       "530    Guardians of the Galaxy Collection      2  8.183724e+08  1.636745e+09\n",
       "422           Fantastic Beasts Collection      1  8.093423e+08  8.093423e+08\n",
       "635                   Iron Man Collection      3  8.081825e+08  2.424548e+09\n",
       "1383             The Lion King Collection      1  7.882418e+08  7.882418e+08\n",
       "309                   Deadpool Collection      1  7.831130e+08  7.831130e+08"
      ]
     },
     "execution_count": 51,
     "metadata": {},
     "output_type": "execute_result"
    }
   ],
   "source": [
    "fran_pivot.sort_values('mean', ascending=False).head(20)"
   ]
  },
  {
   "cell_type": "code",
   "execution_count": 52,
   "metadata": {
    "_cell_guid": "16af6cd4-d101-40a6-925b-8d32c3215122",
    "_uuid": "7ac25702aaf4f229684ffbbb31e114c3a8687995"
   },
   "outputs": [
    {
     "data": {
      "text/html": [
       "<div>\n",
       "<style scoped>\n",
       "    .dataframe tbody tr th:only-of-type {\n",
       "        vertical-align: middle;\n",
       "    }\n",
       "\n",
       "    .dataframe tbody tr th {\n",
       "        vertical-align: top;\n",
       "    }\n",
       "\n",
       "    .dataframe thead th {\n",
       "        text-align: right;\n",
       "    }\n",
       "</style>\n",
       "<table border=\"1\" class=\"dataframe\">\n",
       "  <thead>\n",
       "    <tr style=\"text-align: right;\">\n",
       "      <th></th>\n",
       "      <th>belongs_to_collection</th>\n",
       "      <th>count</th>\n",
       "      <th>mean</th>\n",
       "      <th>sum</th>\n",
       "    </tr>\n",
       "  </thead>\n",
       "  <tbody>\n",
       "    <tr>\n",
       "      <th>646</th>\n",
       "      <td>James Bond Collection</td>\n",
       "      <td>26</td>\n",
       "      <td>2.733450e+08</td>\n",
       "      <td>7.106970e+09</td>\n",
       "    </tr>\n",
       "    <tr>\n",
       "      <th>473</th>\n",
       "      <td>Friday the 13th Collection</td>\n",
       "      <td>12</td>\n",
       "      <td>3.874155e+07</td>\n",
       "      <td>4.648985e+08</td>\n",
       "    </tr>\n",
       "    <tr>\n",
       "      <th>976</th>\n",
       "      <td>Pokémon Collection</td>\n",
       "      <td>11</td>\n",
       "      <td>6.348189e+07</td>\n",
       "      <td>6.983008e+08</td>\n",
       "    </tr>\n",
       "    <tr>\n",
       "      <th>552</th>\n",
       "      <td>Harry Potter Collection</td>\n",
       "      <td>8</td>\n",
       "      <td>9.634209e+08</td>\n",
       "      <td>7.707367e+09</td>\n",
       "    </tr>\n",
       "    <tr>\n",
       "      <th>540</th>\n",
       "      <td>Halloween Collection</td>\n",
       "      <td>8</td>\n",
       "      <td>3.089601e+07</td>\n",
       "      <td>2.471681e+08</td>\n",
       "    </tr>\n",
       "    <tr>\n",
       "      <th>29</th>\n",
       "      <td>A Nightmare on Elm Street Collection</td>\n",
       "      <td>8</td>\n",
       "      <td>4.544894e+07</td>\n",
       "      <td>3.635916e+08</td>\n",
       "    </tr>\n",
       "    <tr>\n",
       "      <th>1317</th>\n",
       "      <td>The Fast and the Furious Collection</td>\n",
       "      <td>8</td>\n",
       "      <td>6.406373e+08</td>\n",
       "      <td>5.125099e+09</td>\n",
       "    </tr>\n",
       "    <tr>\n",
       "      <th>1432</th>\n",
       "      <td>The Pink Panther (Original) Collection</td>\n",
       "      <td>8</td>\n",
       "      <td>2.055978e+07</td>\n",
       "      <td>1.644782e+08</td>\n",
       "    </tr>\n",
       "    <tr>\n",
       "      <th>1160</th>\n",
       "      <td>Star Wars Collection</td>\n",
       "      <td>8</td>\n",
       "      <td>9.293118e+08</td>\n",
       "      <td>7.434495e+09</td>\n",
       "    </tr>\n",
       "    <tr>\n",
       "      <th>977</th>\n",
       "      <td>Police Academy Collection</td>\n",
       "      <td>7</td>\n",
       "      <td>4.352046e+07</td>\n",
       "      <td>3.046432e+08</td>\n",
       "    </tr>\n",
       "    <tr>\n",
       "      <th>1043</th>\n",
       "      <td>Rocky Collection</td>\n",
       "      <td>7</td>\n",
       "      <td>1.910180e+08</td>\n",
       "      <td>1.337126e+09</td>\n",
       "    </tr>\n",
       "    <tr>\n",
       "      <th>1074</th>\n",
       "      <td>Saw Collection</td>\n",
       "      <td>7</td>\n",
       "      <td>1.254725e+08</td>\n",
       "      <td>8.783078e+08</td>\n",
       "    </tr>\n",
       "    <tr>\n",
       "      <th>1415</th>\n",
       "      <td>The Muppet Collection</td>\n",
       "      <td>6</td>\n",
       "      <td>6.668740e+07</td>\n",
       "      <td>4.001244e+08</td>\n",
       "    </tr>\n",
       "    <tr>\n",
       "      <th>1159</th>\n",
       "      <td>Star Trek: The Original Series Collection</td>\n",
       "      <td>6</td>\n",
       "      <td>1.038167e+08</td>\n",
       "      <td>6.229000e+08</td>\n",
       "    </tr>\n",
       "    <tr>\n",
       "      <th>948</th>\n",
       "      <td>Paranormal Activity Collection</td>\n",
       "      <td>6</td>\n",
       "      <td>1.473081e+08</td>\n",
       "      <td>8.838486e+08</td>\n",
       "    </tr>\n",
       "    <tr>\n",
       "      <th>1656</th>\n",
       "      <td>X-Men Collection</td>\n",
       "      <td>6</td>\n",
       "      <td>4.681387e+08</td>\n",
       "      <td>2.808832e+09</td>\n",
       "    </tr>\n",
       "    <tr>\n",
       "      <th>1021</th>\n",
       "      <td>Resident Evil Collection</td>\n",
       "      <td>6</td>\n",
       "      <td>2.055703e+08</td>\n",
       "      <td>1.233422e+09</td>\n",
       "    </tr>\n",
       "    <tr>\n",
       "      <th>1483</th>\n",
       "      <td>The Terminator Collection</td>\n",
       "      <td>5</td>\n",
       "      <td>3.690655e+08</td>\n",
       "      <td>1.845328e+09</td>\n",
       "    </tr>\n",
       "    <tr>\n",
       "      <th>610</th>\n",
       "      <td>Ice Age Collection</td>\n",
       "      <td>5</td>\n",
       "      <td>6.433417e+08</td>\n",
       "      <td>3.216709e+09</td>\n",
       "    </tr>\n",
       "    <tr>\n",
       "      <th>1167</th>\n",
       "      <td>Step Up Collection</td>\n",
       "      <td>5</td>\n",
       "      <td>1.301879e+08</td>\n",
       "      <td>6.509397e+08</td>\n",
       "    </tr>\n",
       "  </tbody>\n",
       "</table>\n",
       "</div>"
      ],
      "text/plain": [
       "                          belongs_to_collection  count          mean  \\\n",
       "646                       James Bond Collection     26  2.733450e+08   \n",
       "473                  Friday the 13th Collection     12  3.874155e+07   \n",
       "976                          Pokémon Collection     11  6.348189e+07   \n",
       "552                     Harry Potter Collection      8  9.634209e+08   \n",
       "540                        Halloween Collection      8  3.089601e+07   \n",
       "29         A Nightmare on Elm Street Collection      8  4.544894e+07   \n",
       "1317        The Fast and the Furious Collection      8  6.406373e+08   \n",
       "1432     The Pink Panther (Original) Collection      8  2.055978e+07   \n",
       "1160                       Star Wars Collection      8  9.293118e+08   \n",
       "977                   Police Academy Collection      7  4.352046e+07   \n",
       "1043                           Rocky Collection      7  1.910180e+08   \n",
       "1074                             Saw Collection      7  1.254725e+08   \n",
       "1415                      The Muppet Collection      6  6.668740e+07   \n",
       "1159  Star Trek: The Original Series Collection      6  1.038167e+08   \n",
       "948              Paranormal Activity Collection      6  1.473081e+08   \n",
       "1656                           X-Men Collection      6  4.681387e+08   \n",
       "1021                   Resident Evil Collection      6  2.055703e+08   \n",
       "1483                  The Terminator Collection      5  3.690655e+08   \n",
       "610                          Ice Age Collection      5  6.433417e+08   \n",
       "1167                         Step Up Collection      5  1.301879e+08   \n",
       "\n",
       "               sum  \n",
       "646   7.106970e+09  \n",
       "473   4.648985e+08  \n",
       "976   6.983008e+08  \n",
       "552   7.707367e+09  \n",
       "540   2.471681e+08  \n",
       "29    3.635916e+08  \n",
       "1317  5.125099e+09  \n",
       "1432  1.644782e+08  \n",
       "1160  7.434495e+09  \n",
       "977   3.046432e+08  \n",
       "1043  1.337126e+09  \n",
       "1074  8.783078e+08  \n",
       "1415  4.001244e+08  \n",
       "1159  6.229000e+08  \n",
       "948   8.838486e+08  \n",
       "1656  2.808832e+09  \n",
       "1021  1.233422e+09  \n",
       "1483  1.845328e+09  \n",
       "610   3.216709e+09  \n",
       "1167  6.509397e+08  "
      ]
     },
     "execution_count": 52,
     "metadata": {},
     "output_type": "execute_result"
    }
   ],
   "source": [
    "fran_pivot.sort_values('count', ascending=False).head(20)"
   ]
  },
  {
   "cell_type": "code",
   "execution_count": 53,
   "metadata": {
    "_cell_guid": "3fa3b28b-881a-425e-9661-00a3f429e083",
    "_uuid": "e599f486e8b187df2c03d52644083e48da1f29be"
   },
   "outputs": [],
   "source": [
    "new_pivot = df.pivot_table(index='title', values='revenue', aggfunc={'revenue': [ 'sum']}).reset_index()"
   ]
  },
  {
   "cell_type": "code",
   "execution_count": 54,
   "metadata": {},
   "outputs": [
    {
     "data": {
      "text/html": [
       "<div>\n",
       "<style scoped>\n",
       "    .dataframe tbody tr th:only-of-type {\n",
       "        vertical-align: middle;\n",
       "    }\n",
       "\n",
       "    .dataframe tbody tr th {\n",
       "        vertical-align: top;\n",
       "    }\n",
       "\n",
       "    .dataframe thead th {\n",
       "        text-align: right;\n",
       "    }\n",
       "</style>\n",
       "<table border=\"1\" class=\"dataframe\">\n",
       "  <thead>\n",
       "    <tr style=\"text-align: right;\">\n",
       "      <th></th>\n",
       "      <th>title</th>\n",
       "      <th>sum</th>\n",
       "    </tr>\n",
       "  </thead>\n",
       "  <tbody>\n",
       "    <tr>\n",
       "      <th>3398</th>\n",
       "      <td>Avatar</td>\n",
       "      <td>2.787965e+09</td>\n",
       "    </tr>\n",
       "    <tr>\n",
       "      <th>28846</th>\n",
       "      <td>Star Wars: The Force Awakens</td>\n",
       "      <td>2.068224e+09</td>\n",
       "    </tr>\n",
       "    <tr>\n",
       "      <th>38665</th>\n",
       "      <td>Titanic</td>\n",
       "      <td>1.849939e+09</td>\n",
       "    </tr>\n",
       "    <tr>\n",
       "      <th>4093</th>\n",
       "      <td>Beauty and the Beast</td>\n",
       "      <td>1.689337e+09</td>\n",
       "    </tr>\n",
       "    <tr>\n",
       "      <th>2032</th>\n",
       "      <td>Alice in Wonderland</td>\n",
       "      <td>1.597491e+09</td>\n",
       "    </tr>\n",
       "    <tr>\n",
       "      <th>30694</th>\n",
       "      <td>The Avengers</td>\n",
       "      <td>1.568143e+09</td>\n",
       "    </tr>\n",
       "    <tr>\n",
       "      <th>16855</th>\n",
       "      <td>Jurassic World</td>\n",
       "      <td>1.513529e+09</td>\n",
       "    </tr>\n",
       "    <tr>\n",
       "      <th>12321</th>\n",
       "      <td>Furious 7</td>\n",
       "      <td>1.506249e+09</td>\n",
       "    </tr>\n",
       "    <tr>\n",
       "      <th>3405</th>\n",
       "      <td>Avengers: Age of Ultron</td>\n",
       "      <td>1.405404e+09</td>\n",
       "    </tr>\n",
       "    <tr>\n",
       "      <th>13789</th>\n",
       "      <td>Harry Potter and the Deathly Hallows: Part 2</td>\n",
       "      <td>1.342000e+09</td>\n",
       "    </tr>\n",
       "    <tr>\n",
       "      <th>12249</th>\n",
       "      <td>Frozen</td>\n",
       "      <td>1.277285e+09</td>\n",
       "    </tr>\n",
       "    <tr>\n",
       "      <th>32603</th>\n",
       "      <td>The Fate of the Furious</td>\n",
       "      <td>1.238765e+09</td>\n",
       "    </tr>\n",
       "    <tr>\n",
       "      <th>16034</th>\n",
       "      <td>Iron Man 3</td>\n",
       "      <td>1.215440e+09</td>\n",
       "    </tr>\n",
       "    <tr>\n",
       "      <th>33979</th>\n",
       "      <td>The Jungle Book</td>\n",
       "      <td>1.172394e+09</td>\n",
       "    </tr>\n",
       "    <tr>\n",
       "      <th>20705</th>\n",
       "      <td>Minions</td>\n",
       "      <td>1.156731e+09</td>\n",
       "    </tr>\n",
       "    <tr>\n",
       "      <th>6189</th>\n",
       "      <td>Captain America: Civil War</td>\n",
       "      <td>1.153304e+09</td>\n",
       "    </tr>\n",
       "    <tr>\n",
       "      <th>39105</th>\n",
       "      <td>Transformers: Dark of the Moon</td>\n",
       "      <td>1.123747e+09</td>\n",
       "    </tr>\n",
       "    <tr>\n",
       "      <th>34599</th>\n",
       "      <td>The Lord of the Rings: The Return of the King</td>\n",
       "      <td>1.118889e+09</td>\n",
       "    </tr>\n",
       "    <tr>\n",
       "      <th>27931</th>\n",
       "      <td>Skyfall</td>\n",
       "      <td>1.108561e+09</td>\n",
       "    </tr>\n",
       "    <tr>\n",
       "      <th>39104</th>\n",
       "      <td>Transformers: Age of Extinction</td>\n",
       "      <td>1.091405e+09</td>\n",
       "    </tr>\n",
       "  </tbody>\n",
       "</table>\n",
       "</div>"
      ],
      "text/plain": [
       "                                               title           sum\n",
       "3398                                          Avatar  2.787965e+09\n",
       "28846                   Star Wars: The Force Awakens  2.068224e+09\n",
       "38665                                        Titanic  1.849939e+09\n",
       "4093                            Beauty and the Beast  1.689337e+09\n",
       "2032                             Alice in Wonderland  1.597491e+09\n",
       "30694                                   The Avengers  1.568143e+09\n",
       "16855                                 Jurassic World  1.513529e+09\n",
       "12321                                      Furious 7  1.506249e+09\n",
       "3405                         Avengers: Age of Ultron  1.405404e+09\n",
       "13789   Harry Potter and the Deathly Hallows: Part 2  1.342000e+09\n",
       "12249                                         Frozen  1.277285e+09\n",
       "32603                        The Fate of the Furious  1.238765e+09\n",
       "16034                                     Iron Man 3  1.215440e+09\n",
       "33979                                The Jungle Book  1.172394e+09\n",
       "20705                                        Minions  1.156731e+09\n",
       "6189                      Captain America: Civil War  1.153304e+09\n",
       "39105                 Transformers: Dark of the Moon  1.123747e+09\n",
       "34599  The Lord of the Rings: The Return of the King  1.118889e+09\n",
       "27931                                        Skyfall  1.108561e+09\n",
       "39104                Transformers: Age of Extinction  1.091405e+09"
      ]
     },
     "execution_count": 54,
     "metadata": {},
     "output_type": "execute_result"
    }
   ],
   "source": [
    "new_pivot.sort_values('sum', ascending=False).head(20)"
   ]
  },
  {
   "cell_type": "code",
   "execution_count": 55,
   "metadata": {
    "_cell_guid": "64da44ec-9210-4796-910c-4494d59d53b7",
    "_uuid": "0377fb5ae7de4c7a11f13c0c7c7df3ced781d2e3"
   },
   "outputs": [],
   "source": [
    "df['production_companies'] = df['production_companies'].fillna('[]').apply(ast.literal_eval)\n",
    "df['production_companies'] = df['production_companies'].apply(lambda x: [i['name'] for i in x] if isinstance(x, list) else [])"
   ]
  },
  {
   "cell_type": "code",
   "execution_count": 56,
   "metadata": {
    "_cell_guid": "695ed3c8-398e-447b-9cdf-3a2eafc91658",
    "_uuid": "df144753af752859adf9ca6f18c7a7fa19dcc989"
   },
   "outputs": [],
   "source": [
    "s = df.apply(lambda x: pd.Series(x['production_companies']),axis=1).stack().reset_index(level=1, drop=True)\n",
    "s.name = 'companies'"
   ]
  },
  {
   "cell_type": "code",
   "execution_count": 57,
   "metadata": {
    "_cell_guid": "d5585a3b-e5b6-4acc-a626-c82814c4887c",
    "_uuid": "fbabd3cd73449aa83f53a78c71397f664acddfdd"
   },
   "outputs": [],
   "source": [
    "com_df = df.drop('production_companies', axis=1).join(s)"
   ]
  },
  {
   "cell_type": "code",
   "execution_count": 58,
   "metadata": {
    "_cell_guid": "2946eb43-36a6-4077-a7fc-dd598c91763f",
    "_uuid": "ffe57b3750d1378e23844aeb1196d5283f7cd399"
   },
   "outputs": [],
   "source": [
    "com_sum = pd.DataFrame(com_df.groupby('companies')['revenue'].sum().sort_values(ascending=False))\n",
    "com_sum.columns = ['Total']\n",
    "com_mean = pd.DataFrame(com_df.groupby('companies')['revenue'].mean().sort_values(ascending=False))\n",
    "com_mean.columns = ['Average']\n",
    "com_count = pd.DataFrame(com_df.groupby('companies')['revenue'].count().sort_values(ascending=False))\n",
    "com_count.columns = ['Number']\n",
    "\n",
    "com_pivot = pd.concat((com_sum, com_mean, com_count), axis=1)"
   ]
  },
  {
   "cell_type": "code",
   "execution_count": 59,
   "metadata": {
    "_cell_guid": "24d51435-19f1-43a8-9c07-ab8418825b70",
    "_uuid": "17d6a602e5feddde6e01efd033d7f465c4690b6c"
   },
   "outputs": [
    {
     "data": {
      "text/html": [
       "<div>\n",
       "<style scoped>\n",
       "    .dataframe tbody tr th:only-of-type {\n",
       "        vertical-align: middle;\n",
       "    }\n",
       "\n",
       "    .dataframe tbody tr th {\n",
       "        vertical-align: top;\n",
       "    }\n",
       "\n",
       "    .dataframe thead th {\n",
       "        text-align: right;\n",
       "    }\n",
       "</style>\n",
       "<table border=\"1\" class=\"dataframe\">\n",
       "  <thead>\n",
       "    <tr style=\"text-align: right;\">\n",
       "      <th></th>\n",
       "      <th>Total</th>\n",
       "      <th>Average</th>\n",
       "      <th>Number</th>\n",
       "    </tr>\n",
       "  </thead>\n",
       "  <tbody>\n",
       "    <tr>\n",
       "      <th>Warner Bros.</th>\n",
       "      <td>6.352519e+10</td>\n",
       "      <td>1.293792e+08</td>\n",
       "      <td>491</td>\n",
       "    </tr>\n",
       "    <tr>\n",
       "      <th>Universal Pictures</th>\n",
       "      <td>5.525919e+10</td>\n",
       "      <td>1.193503e+08</td>\n",
       "      <td>463</td>\n",
       "    </tr>\n",
       "    <tr>\n",
       "      <th>Paramount Pictures</th>\n",
       "      <td>4.880819e+10</td>\n",
       "      <td>1.235650e+08</td>\n",
       "      <td>395</td>\n",
       "    </tr>\n",
       "    <tr>\n",
       "      <th>Twentieth Century Fox Film Corporation</th>\n",
       "      <td>4.768775e+10</td>\n",
       "      <td>1.398468e+08</td>\n",
       "      <td>341</td>\n",
       "    </tr>\n",
       "    <tr>\n",
       "      <th>Walt Disney Pictures</th>\n",
       "      <td>4.083727e+10</td>\n",
       "      <td>2.778046e+08</td>\n",
       "      <td>147</td>\n",
       "    </tr>\n",
       "    <tr>\n",
       "      <th>Columbia Pictures</th>\n",
       "      <td>3.227974e+10</td>\n",
       "      <td>1.367785e+08</td>\n",
       "      <td>236</td>\n",
       "    </tr>\n",
       "    <tr>\n",
       "      <th>New Line Cinema</th>\n",
       "      <td>2.217339e+10</td>\n",
       "      <td>1.119868e+08</td>\n",
       "      <td>198</td>\n",
       "    </tr>\n",
       "    <tr>\n",
       "      <th>Amblin Entertainment</th>\n",
       "      <td>1.734372e+10</td>\n",
       "      <td>2.550547e+08</td>\n",
       "      <td>68</td>\n",
       "    </tr>\n",
       "    <tr>\n",
       "      <th>DreamWorks SKG</th>\n",
       "      <td>1.547575e+10</td>\n",
       "      <td>1.984071e+08</td>\n",
       "      <td>78</td>\n",
       "    </tr>\n",
       "    <tr>\n",
       "      <th>Dune Entertainment</th>\n",
       "      <td>1.500379e+10</td>\n",
       "      <td>2.419966e+08</td>\n",
       "      <td>62</td>\n",
       "    </tr>\n",
       "    <tr>\n",
       "      <th>Village Roadshow Pictures</th>\n",
       "      <td>1.490470e+10</td>\n",
       "      <td>1.674685e+08</td>\n",
       "      <td>89</td>\n",
       "    </tr>\n",
       "    <tr>\n",
       "      <th>Relativity Media</th>\n",
       "      <td>1.460315e+10</td>\n",
       "      <td>1.269839e+08</td>\n",
       "      <td>115</td>\n",
       "    </tr>\n",
       "    <tr>\n",
       "      <th>Touchstone Pictures</th>\n",
       "      <td>1.412178e+10</td>\n",
       "      <td>8.937839e+07</td>\n",
       "      <td>158</td>\n",
       "    </tr>\n",
       "    <tr>\n",
       "      <th>DreamWorks Animation</th>\n",
       "      <td>1.370752e+10</td>\n",
       "      <td>4.031622e+08</td>\n",
       "      <td>34</td>\n",
       "    </tr>\n",
       "    <tr>\n",
       "      <th>Legendary Pictures</th>\n",
       "      <td>1.346866e+10</td>\n",
       "      <td>3.367166e+08</td>\n",
       "      <td>40</td>\n",
       "    </tr>\n",
       "    <tr>\n",
       "      <th>Metro-Goldwyn-Mayer (MGM)</th>\n",
       "      <td>1.237679e+10</td>\n",
       "      <td>5.979126e+07</td>\n",
       "      <td>207</td>\n",
       "    </tr>\n",
       "    <tr>\n",
       "      <th>Marvel Studios</th>\n",
       "      <td>1.169964e+10</td>\n",
       "      <td>6.157703e+08</td>\n",
       "      <td>19</td>\n",
       "    </tr>\n",
       "    <tr>\n",
       "      <th>Columbia Pictures Corporation</th>\n",
       "      <td>1.134909e+10</td>\n",
       "      <td>8.106493e+07</td>\n",
       "      <td>140</td>\n",
       "    </tr>\n",
       "    <tr>\n",
       "      <th>Pixar Animation Studios</th>\n",
       "      <td>1.118853e+10</td>\n",
       "      <td>6.215852e+08</td>\n",
       "      <td>18</td>\n",
       "    </tr>\n",
       "    <tr>\n",
       "      <th>TSG Entertainment</th>\n",
       "      <td>1.015788e+10</td>\n",
       "      <td>2.745373e+08</td>\n",
       "      <td>37</td>\n",
       "    </tr>\n",
       "  </tbody>\n",
       "</table>\n",
       "</div>"
      ],
      "text/plain": [
       "                                               Total       Average  Number\n",
       "Warner Bros.                            6.352519e+10  1.293792e+08     491\n",
       "Universal Pictures                      5.525919e+10  1.193503e+08     463\n",
       "Paramount Pictures                      4.880819e+10  1.235650e+08     395\n",
       "Twentieth Century Fox Film Corporation  4.768775e+10  1.398468e+08     341\n",
       "Walt Disney Pictures                    4.083727e+10  2.778046e+08     147\n",
       "Columbia Pictures                       3.227974e+10  1.367785e+08     236\n",
       "New Line Cinema                         2.217339e+10  1.119868e+08     198\n",
       "Amblin Entertainment                    1.734372e+10  2.550547e+08      68\n",
       "DreamWorks SKG                          1.547575e+10  1.984071e+08      78\n",
       "Dune Entertainment                      1.500379e+10  2.419966e+08      62\n",
       "Village Roadshow Pictures               1.490470e+10  1.674685e+08      89\n",
       "Relativity Media                        1.460315e+10  1.269839e+08     115\n",
       "Touchstone Pictures                     1.412178e+10  8.937839e+07     158\n",
       "DreamWorks Animation                    1.370752e+10  4.031622e+08      34\n",
       "Legendary Pictures                      1.346866e+10  3.367166e+08      40\n",
       "Metro-Goldwyn-Mayer (MGM)               1.237679e+10  5.979126e+07     207\n",
       "Marvel Studios                          1.169964e+10  6.157703e+08      19\n",
       "Columbia Pictures Corporation           1.134909e+10  8.106493e+07     140\n",
       "Pixar Animation Studios                 1.118853e+10  6.215852e+08      18\n",
       "TSG Entertainment                       1.015788e+10  2.745373e+08      37"
      ]
     },
     "execution_count": 59,
     "metadata": {},
     "output_type": "execute_result"
    }
   ],
   "source": [
    "com_pivot.sort_values('Total', ascending=False).head(20)"
   ]
  },
  {
   "cell_type": "code",
   "execution_count": 60,
   "metadata": {
    "_cell_guid": "b28d172e-46e1-43ea-a02e-c5ba20df1066",
    "_uuid": "459bb5d40dbcff8c383e38693e2ce1370a599e40"
   },
   "outputs": [
    {
     "data": {
      "text/html": [
       "<div>\n",
       "<style scoped>\n",
       "    .dataframe tbody tr th:only-of-type {\n",
       "        vertical-align: middle;\n",
       "    }\n",
       "\n",
       "    .dataframe tbody tr th {\n",
       "        vertical-align: top;\n",
       "    }\n",
       "\n",
       "    .dataframe thead th {\n",
       "        text-align: right;\n",
       "    }\n",
       "</style>\n",
       "<table border=\"1\" class=\"dataframe\">\n",
       "  <thead>\n",
       "    <tr style=\"text-align: right;\">\n",
       "      <th></th>\n",
       "      <th>Total</th>\n",
       "      <th>Average</th>\n",
       "      <th>Number</th>\n",
       "    </tr>\n",
       "  </thead>\n",
       "  <tbody>\n",
       "    <tr>\n",
       "      <th>Pixar Animation Studios</th>\n",
       "      <td>1.118853e+10</td>\n",
       "      <td>6.215852e+08</td>\n",
       "      <td>18</td>\n",
       "    </tr>\n",
       "    <tr>\n",
       "      <th>Marvel Studios</th>\n",
       "      <td>1.169964e+10</td>\n",
       "      <td>6.157703e+08</td>\n",
       "      <td>19</td>\n",
       "    </tr>\n",
       "    <tr>\n",
       "      <th>Revolution Sun Studios</th>\n",
       "      <td>8.120339e+09</td>\n",
       "      <td>5.413559e+08</td>\n",
       "      <td>15</td>\n",
       "    </tr>\n",
       "    <tr>\n",
       "      <th>Lucasfilm</th>\n",
       "      <td>9.898421e+09</td>\n",
       "      <td>4.499282e+08</td>\n",
       "      <td>22</td>\n",
       "    </tr>\n",
       "    <tr>\n",
       "      <th>DreamWorks Animation</th>\n",
       "      <td>1.370752e+10</td>\n",
       "      <td>4.031622e+08</td>\n",
       "      <td>34</td>\n",
       "    </tr>\n",
       "    <tr>\n",
       "      <th>DC Entertainment</th>\n",
       "      <td>6.212609e+09</td>\n",
       "      <td>3.882880e+08</td>\n",
       "      <td>16</td>\n",
       "    </tr>\n",
       "    <tr>\n",
       "      <th>Dentsu</th>\n",
       "      <td>6.853205e+09</td>\n",
       "      <td>3.807336e+08</td>\n",
       "      <td>18</td>\n",
       "    </tr>\n",
       "    <tr>\n",
       "      <th>Jerry Bruckheimer Films</th>\n",
       "      <td>8.957441e+09</td>\n",
       "      <td>3.732267e+08</td>\n",
       "      <td>24</td>\n",
       "    </tr>\n",
       "    <tr>\n",
       "      <th>Marvel Enterprises</th>\n",
       "      <td>6.538067e+09</td>\n",
       "      <td>3.441088e+08</td>\n",
       "      <td>19</td>\n",
       "    </tr>\n",
       "    <tr>\n",
       "      <th>Legendary Pictures</th>\n",
       "      <td>1.346866e+10</td>\n",
       "      <td>3.367166e+08</td>\n",
       "      <td>40</td>\n",
       "    </tr>\n",
       "    <tr>\n",
       "      <th>1492 Pictures</th>\n",
       "      <td>5.470574e+09</td>\n",
       "      <td>3.217985e+08</td>\n",
       "      <td>17</td>\n",
       "    </tr>\n",
       "    <tr>\n",
       "      <th>Di Bonaventura Pictures</th>\n",
       "      <td>6.428342e+09</td>\n",
       "      <td>3.214171e+08</td>\n",
       "      <td>20</td>\n",
       "    </tr>\n",
       "    <tr>\n",
       "      <th>Ingenious Film Partners</th>\n",
       "      <td>8.104726e+09</td>\n",
       "      <td>3.001750e+08</td>\n",
       "      <td>27</td>\n",
       "    </tr>\n",
       "    <tr>\n",
       "      <th>Atlas Entertainment</th>\n",
       "      <td>4.781741e+09</td>\n",
       "      <td>2.988588e+08</td>\n",
       "      <td>16</td>\n",
       "    </tr>\n",
       "    <tr>\n",
       "      <th>RatPac-Dune Entertainment</th>\n",
       "      <td>5.059895e+09</td>\n",
       "      <td>2.976409e+08</td>\n",
       "      <td>17</td>\n",
       "    </tr>\n",
       "    <tr>\n",
       "      <th>Donners' Company</th>\n",
       "      <td>4.741215e+09</td>\n",
       "      <td>2.963259e+08</td>\n",
       "      <td>16</td>\n",
       "    </tr>\n",
       "    <tr>\n",
       "      <th>Walt Disney Pictures</th>\n",
       "      <td>4.083727e+10</td>\n",
       "      <td>2.778046e+08</td>\n",
       "      <td>147</td>\n",
       "    </tr>\n",
       "    <tr>\n",
       "      <th>TSG Entertainment</th>\n",
       "      <td>1.015788e+10</td>\n",
       "      <td>2.745373e+08</td>\n",
       "      <td>37</td>\n",
       "    </tr>\n",
       "    <tr>\n",
       "      <th>Original Film</th>\n",
       "      <td>9.048042e+09</td>\n",
       "      <td>2.585155e+08</td>\n",
       "      <td>35</td>\n",
       "    </tr>\n",
       "    <tr>\n",
       "      <th>DC Comics</th>\n",
       "      <td>4.625644e+09</td>\n",
       "      <td>2.569802e+08</td>\n",
       "      <td>18</td>\n",
       "    </tr>\n",
       "  </tbody>\n",
       "</table>\n",
       "</div>"
      ],
      "text/plain": [
       "                                  Total       Average  Number\n",
       "Pixar Animation Studios    1.118853e+10  6.215852e+08      18\n",
       "Marvel Studios             1.169964e+10  6.157703e+08      19\n",
       "Revolution Sun Studios     8.120339e+09  5.413559e+08      15\n",
       "Lucasfilm                  9.898421e+09  4.499282e+08      22\n",
       "DreamWorks Animation       1.370752e+10  4.031622e+08      34\n",
       "DC Entertainment           6.212609e+09  3.882880e+08      16\n",
       "Dentsu                     6.853205e+09  3.807336e+08      18\n",
       "Jerry Bruckheimer Films    8.957441e+09  3.732267e+08      24\n",
       "Marvel Enterprises         6.538067e+09  3.441088e+08      19\n",
       "Legendary Pictures         1.346866e+10  3.367166e+08      40\n",
       "1492 Pictures              5.470574e+09  3.217985e+08      17\n",
       "Di Bonaventura Pictures    6.428342e+09  3.214171e+08      20\n",
       "Ingenious Film Partners    8.104726e+09  3.001750e+08      27\n",
       "Atlas Entertainment        4.781741e+09  2.988588e+08      16\n",
       "RatPac-Dune Entertainment  5.059895e+09  2.976409e+08      17\n",
       "Donners' Company           4.741215e+09  2.963259e+08      16\n",
       "Walt Disney Pictures       4.083727e+10  2.778046e+08     147\n",
       "TSG Entertainment          1.015788e+10  2.745373e+08      37\n",
       "Original Film              9.048042e+09  2.585155e+08      35\n",
       "DC Comics                  4.625644e+09  2.569802e+08      18"
      ]
     },
     "execution_count": 60,
     "metadata": {},
     "output_type": "execute_result"
    }
   ],
   "source": [
    "com_pivot[com_pivot['Number'] >= 15].sort_values('Average', ascending=False).head(20)"
   ]
  },
  {
   "cell_type": "code",
   "execution_count": 61,
   "metadata": {
    "_cell_guid": "7add5349-b912-40fd-9e7d-8ee1300e9ae6",
    "_uuid": "1c7d401fa5eec05719f0953cdddd1022e024af2b"
   },
   "outputs": [
    {
     "data": {
      "text/plain": [
       "93"
      ]
     },
     "execution_count": 61,
     "metadata": {},
     "output_type": "execute_result"
    }
   ],
   "source": [
    "df['original_language'].drop_duplicates().shape[0]"
   ]
  },
  {
   "cell_type": "code",
   "execution_count": 62,
   "metadata": {
    "_cell_guid": "1a767be2-8c33-4cf7-ac49-02d6bcb4262e",
    "_uuid": "0d53227cb9abef89fcff97d5e479e5611e80a85b"
   },
   "outputs": [],
   "source": [
    "def clean_numeric(x):\n",
    "    try:\n",
    "        return float(x)\n",
    "    except:\n",
    "        return np.nan"
   ]
  },
  {
   "cell_type": "code",
   "execution_count": 63,
   "metadata": {
    "_cell_guid": "cad7bb51-9418-44b6-9c0e-c26c5268d543",
    "_uuid": "e91abbcb41a8465887d72e8366497f3fa93b37d8"
   },
   "outputs": [],
   "source": [
    "df['popularity'] = df['popularity'].apply(clean_numeric).astype('float')\n",
    "df['vote_count'] = df['vote_count'].apply(clean_numeric).astype('float')\n",
    "df['vote_average'] = df['vote_average'].apply(clean_numeric).astype('float')"
   ]
  },
  {
   "cell_type": "code",
   "execution_count": 64,
   "metadata": {
    "_cell_guid": "12954262-485e-46c9-836c-997c58b4b506",
    "_uuid": "a05527d6f69584d132623d365f156da05c1dee7d",
    "scrolled": true
   },
   "outputs": [
    {
     "data": {
      "text/plain": [
       "count    45460.000000\n",
       "mean         2.921478\n",
       "std          6.005414\n",
       "min          0.000000\n",
       "25%          0.385948\n",
       "50%          1.127685\n",
       "75%          3.678902\n",
       "max        547.488298\n",
       "Name: popularity, dtype: float64"
      ]
     },
     "execution_count": 64,
     "metadata": {},
     "output_type": "execute_result"
    }
   ],
   "source": [
    "df['popularity'].describe()"
   ]
  },
  {
   "cell_type": "code",
   "execution_count": 65,
   "metadata": {
    "_cell_guid": "c4880f12-85c5-43d8-90b7-5e09173633d4",
    "_uuid": "28befa088b26d324e0de9954c2697af7bca08d90"
   },
   "outputs": [
    {
     "data": {
      "text/html": [
       "<div>\n",
       "<style scoped>\n",
       "    .dataframe tbody tr th:only-of-type {\n",
       "        vertical-align: middle;\n",
       "    }\n",
       "\n",
       "    .dataframe tbody tr th {\n",
       "        vertical-align: top;\n",
       "    }\n",
       "\n",
       "    .dataframe thead th {\n",
       "        text-align: right;\n",
       "    }\n",
       "</style>\n",
       "<table border=\"1\" class=\"dataframe\">\n",
       "  <thead>\n",
       "    <tr style=\"text-align: right;\">\n",
       "      <th></th>\n",
       "      <th>title</th>\n",
       "      <th>popularity</th>\n",
       "      <th>year</th>\n",
       "    </tr>\n",
       "  </thead>\n",
       "  <tbody>\n",
       "    <tr>\n",
       "      <th>30700</th>\n",
       "      <td>Minions</td>\n",
       "      <td>547.488298</td>\n",
       "      <td>2015</td>\n",
       "    </tr>\n",
       "    <tr>\n",
       "      <th>33356</th>\n",
       "      <td>Wonder Woman</td>\n",
       "      <td>294.337037</td>\n",
       "      <td>2017</td>\n",
       "    </tr>\n",
       "    <tr>\n",
       "      <th>42222</th>\n",
       "      <td>Beauty and the Beast</td>\n",
       "      <td>287.253654</td>\n",
       "      <td>2017</td>\n",
       "    </tr>\n",
       "    <tr>\n",
       "      <th>43644</th>\n",
       "      <td>Baby Driver</td>\n",
       "      <td>228.032744</td>\n",
       "      <td>2017</td>\n",
       "    </tr>\n",
       "    <tr>\n",
       "      <th>24455</th>\n",
       "      <td>Big Hero 6</td>\n",
       "      <td>213.849907</td>\n",
       "      <td>2014</td>\n",
       "    </tr>\n",
       "    <tr>\n",
       "      <th>26564</th>\n",
       "      <td>Deadpool</td>\n",
       "      <td>187.860492</td>\n",
       "      <td>2016</td>\n",
       "    </tr>\n",
       "    <tr>\n",
       "      <th>26566</th>\n",
       "      <td>Guardians of the Galaxy Vol. 2</td>\n",
       "      <td>185.330992</td>\n",
       "      <td>2017</td>\n",
       "    </tr>\n",
       "    <tr>\n",
       "      <th>14551</th>\n",
       "      <td>Avatar</td>\n",
       "      <td>185.070892</td>\n",
       "      <td>2009</td>\n",
       "    </tr>\n",
       "    <tr>\n",
       "      <th>24351</th>\n",
       "      <td>John Wick</td>\n",
       "      <td>183.870374</td>\n",
       "      <td>2014</td>\n",
       "    </tr>\n",
       "    <tr>\n",
       "      <th>23675</th>\n",
       "      <td>Gone Girl</td>\n",
       "      <td>154.801009</td>\n",
       "      <td>2014</td>\n",
       "    </tr>\n",
       "    <tr>\n",
       "      <th>24873</th>\n",
       "      <td>The Hunger Games: Mockingjay - Part 1</td>\n",
       "      <td>147.098006</td>\n",
       "      <td>2014</td>\n",
       "    </tr>\n",
       "    <tr>\n",
       "      <th>44274</th>\n",
       "      <td>War for the Planet of the Apes</td>\n",
       "      <td>146.161786</td>\n",
       "      <td>2017</td>\n",
       "    </tr>\n",
       "    <tr>\n",
       "      <th>26567</th>\n",
       "      <td>Captain America: Civil War</td>\n",
       "      <td>145.882135</td>\n",
       "      <td>2016</td>\n",
       "    </tr>\n",
       "    <tr>\n",
       "      <th>292</th>\n",
       "      <td>Pulp Fiction</td>\n",
       "      <td>140.950236</td>\n",
       "      <td>1994</td>\n",
       "    </tr>\n",
       "    <tr>\n",
       "      <th>26560</th>\n",
       "      <td>Pirates of the Caribbean: Dead Men Tell No Tales</td>\n",
       "      <td>133.827820</td>\n",
       "      <td>2017</td>\n",
       "    </tr>\n",
       "    <tr>\n",
       "      <th>12481</th>\n",
       "      <td>The Dark Knight</td>\n",
       "      <td>123.167259</td>\n",
       "      <td>2008</td>\n",
       "    </tr>\n",
       "    <tr>\n",
       "      <th>536</th>\n",
       "      <td>Blade Runner</td>\n",
       "      <td>96.272374</td>\n",
       "      <td>1982</td>\n",
       "    </tr>\n",
       "    <tr>\n",
       "      <th>17818</th>\n",
       "      <td>The Avengers</td>\n",
       "      <td>89.887648</td>\n",
       "      <td>2012</td>\n",
       "    </tr>\n",
       "    <tr>\n",
       "      <th>43286</th>\n",
       "      <td>Captain Underpants: The First Epic Movie</td>\n",
       "      <td>88.561239</td>\n",
       "      <td>2017</td>\n",
       "    </tr>\n",
       "    <tr>\n",
       "      <th>33361</th>\n",
       "      <td>The Circle</td>\n",
       "      <td>88.439243</td>\n",
       "      <td>2017</td>\n",
       "    </tr>\n",
       "  </tbody>\n",
       "</table>\n",
       "</div>"
      ],
      "text/plain": [
       "                                                  title  popularity  year\n",
       "30700                                           Minions  547.488298  2015\n",
       "33356                                      Wonder Woman  294.337037  2017\n",
       "42222                              Beauty and the Beast  287.253654  2017\n",
       "43644                                       Baby Driver  228.032744  2017\n",
       "24455                                        Big Hero 6  213.849907  2014\n",
       "26564                                          Deadpool  187.860492  2016\n",
       "26566                    Guardians of the Galaxy Vol. 2  185.330992  2017\n",
       "14551                                            Avatar  185.070892  2009\n",
       "24351                                         John Wick  183.870374  2014\n",
       "23675                                         Gone Girl  154.801009  2014\n",
       "24873             The Hunger Games: Mockingjay - Part 1  147.098006  2014\n",
       "44274                    War for the Planet of the Apes  146.161786  2017\n",
       "26567                        Captain America: Civil War  145.882135  2016\n",
       "292                                        Pulp Fiction  140.950236  1994\n",
       "26560  Pirates of the Caribbean: Dead Men Tell No Tales  133.827820  2017\n",
       "12481                                   The Dark Knight  123.167259  2008\n",
       "536                                        Blade Runner   96.272374  1982\n",
       "17818                                      The Avengers   89.887648  2012\n",
       "43286          Captain Underpants: The First Epic Movie   88.561239  2017\n",
       "33361                                        The Circle   88.439243  2017"
      ]
     },
     "execution_count": 65,
     "metadata": {},
     "output_type": "execute_result"
    }
   ],
   "source": [
    "df[['title', 'popularity', 'year']].sort_values('popularity', ascending=False).head(20)"
   ]
  },
  {
   "cell_type": "code",
   "execution_count": 66,
   "metadata": {
    "_cell_guid": "32ce145d-289f-4ba7-ba20-f6929435a519",
    "_uuid": "7668cc39bb8545a47b81a244c45a44eef5ba9ecb"
   },
   "outputs": [
    {
     "data": {
      "text/html": [
       "<div>\n",
       "<style scoped>\n",
       "    .dataframe tbody tr th:only-of-type {\n",
       "        vertical-align: middle;\n",
       "    }\n",
       "\n",
       "    .dataframe tbody tr th {\n",
       "        vertical-align: top;\n",
       "    }\n",
       "\n",
       "    .dataframe thead th {\n",
       "        text-align: right;\n",
       "    }\n",
       "</style>\n",
       "<table border=\"1\" class=\"dataframe\">\n",
       "  <thead>\n",
       "    <tr style=\"text-align: right;\">\n",
       "      <th></th>\n",
       "      <th>title</th>\n",
       "      <th>vote_count</th>\n",
       "      <th>year</th>\n",
       "    </tr>\n",
       "  </thead>\n",
       "  <tbody>\n",
       "    <tr>\n",
       "      <th>15480</th>\n",
       "      <td>Inception</td>\n",
       "      <td>14075.0</td>\n",
       "      <td>2010</td>\n",
       "    </tr>\n",
       "    <tr>\n",
       "      <th>12481</th>\n",
       "      <td>The Dark Knight</td>\n",
       "      <td>12269.0</td>\n",
       "      <td>2008</td>\n",
       "    </tr>\n",
       "    <tr>\n",
       "      <th>14551</th>\n",
       "      <td>Avatar</td>\n",
       "      <td>12114.0</td>\n",
       "      <td>2009</td>\n",
       "    </tr>\n",
       "    <tr>\n",
       "      <th>17818</th>\n",
       "      <td>The Avengers</td>\n",
       "      <td>12000.0</td>\n",
       "      <td>2012</td>\n",
       "    </tr>\n",
       "    <tr>\n",
       "      <th>26564</th>\n",
       "      <td>Deadpool</td>\n",
       "      <td>11444.0</td>\n",
       "      <td>2016</td>\n",
       "    </tr>\n",
       "    <tr>\n",
       "      <th>22879</th>\n",
       "      <td>Interstellar</td>\n",
       "      <td>11187.0</td>\n",
       "      <td>2014</td>\n",
       "    </tr>\n",
       "    <tr>\n",
       "      <th>20051</th>\n",
       "      <td>Django Unchained</td>\n",
       "      <td>10297.0</td>\n",
       "      <td>2012</td>\n",
       "    </tr>\n",
       "    <tr>\n",
       "      <th>23753</th>\n",
       "      <td>Guardians of the Galaxy</td>\n",
       "      <td>10014.0</td>\n",
       "      <td>2014</td>\n",
       "    </tr>\n",
       "    <tr>\n",
       "      <th>2843</th>\n",
       "      <td>Fight Club</td>\n",
       "      <td>9678.0</td>\n",
       "      <td>1999</td>\n",
       "    </tr>\n",
       "    <tr>\n",
       "      <th>18244</th>\n",
       "      <td>The Hunger Games</td>\n",
       "      <td>9634.0</td>\n",
       "      <td>2012</td>\n",
       "    </tr>\n",
       "    <tr>\n",
       "      <th>26553</th>\n",
       "      <td>Mad Max: Fury Road</td>\n",
       "      <td>9629.0</td>\n",
       "      <td>2015</td>\n",
       "    </tr>\n",
       "    <tr>\n",
       "      <th>18252</th>\n",
       "      <td>The Dark Knight Rises</td>\n",
       "      <td>9263.0</td>\n",
       "      <td>2012</td>\n",
       "    </tr>\n",
       "    <tr>\n",
       "      <th>2458</th>\n",
       "      <td>The Matrix</td>\n",
       "      <td>9079.0</td>\n",
       "      <td>1999</td>\n",
       "    </tr>\n",
       "    <tr>\n",
       "      <th>12588</th>\n",
       "      <td>Iron Man</td>\n",
       "      <td>8951.0</td>\n",
       "      <td>2008</td>\n",
       "    </tr>\n",
       "    <tr>\n",
       "      <th>20830</th>\n",
       "      <td>Iron Man 3</td>\n",
       "      <td>8951.0</td>\n",
       "      <td>2013</td>\n",
       "    </tr>\n",
       "    <tr>\n",
       "      <th>4863</th>\n",
       "      <td>The Lord of the Rings: The Fellowship of the Ring</td>\n",
       "      <td>8892.0</td>\n",
       "      <td>2001</td>\n",
       "    </tr>\n",
       "    <tr>\n",
       "      <th>25084</th>\n",
       "      <td>Jurassic World</td>\n",
       "      <td>8842.0</td>\n",
       "      <td>2015</td>\n",
       "    </tr>\n",
       "    <tr>\n",
       "      <th>292</th>\n",
       "      <td>Pulp Fiction</td>\n",
       "      <td>8670.0</td>\n",
       "      <td>1994</td>\n",
       "    </tr>\n",
       "    <tr>\n",
       "      <th>19971</th>\n",
       "      <td>The Hobbit: An Unexpected Journey</td>\n",
       "      <td>8427.0</td>\n",
       "      <td>2012</td>\n",
       "    </tr>\n",
       "    <tr>\n",
       "      <th>314</th>\n",
       "      <td>The Shawshank Redemption</td>\n",
       "      <td>8358.0</td>\n",
       "      <td>1994</td>\n",
       "    </tr>\n",
       "  </tbody>\n",
       "</table>\n",
       "</div>"
      ],
      "text/plain": [
       "                                                   title  vote_count  year\n",
       "15480                                          Inception     14075.0  2010\n",
       "12481                                    The Dark Knight     12269.0  2008\n",
       "14551                                             Avatar     12114.0  2009\n",
       "17818                                       The Avengers     12000.0  2012\n",
       "26564                                           Deadpool     11444.0  2016\n",
       "22879                                       Interstellar     11187.0  2014\n",
       "20051                                   Django Unchained     10297.0  2012\n",
       "23753                            Guardians of the Galaxy     10014.0  2014\n",
       "2843                                          Fight Club      9678.0  1999\n",
       "18244                                   The Hunger Games      9634.0  2012\n",
       "26553                                 Mad Max: Fury Road      9629.0  2015\n",
       "18252                              The Dark Knight Rises      9263.0  2012\n",
       "2458                                          The Matrix      9079.0  1999\n",
       "12588                                           Iron Man      8951.0  2008\n",
       "20830                                         Iron Man 3      8951.0  2013\n",
       "4863   The Lord of the Rings: The Fellowship of the Ring      8892.0  2001\n",
       "25084                                     Jurassic World      8842.0  2015\n",
       "292                                         Pulp Fiction      8670.0  1994\n",
       "19971                  The Hobbit: An Unexpected Journey      8427.0  2012\n",
       "314                             The Shawshank Redemption      8358.0  1994"
      ]
     },
     "execution_count": 66,
     "metadata": {},
     "output_type": "execute_result"
    }
   ],
   "source": [
    "df[['title', 'vote_count', 'year']].sort_values('vote_count', ascending=False).head(20)"
   ]
  },
  {
   "cell_type": "code",
   "execution_count": 67,
   "metadata": {
    "_cell_guid": "2ab0efc2-8298-4399-93fb-3965a923e70b",
    "_uuid": "1e8a8ed70897def6bb256b00a28f32ecd49212e0"
   },
   "outputs": [
    {
     "data": {
      "text/plain": [
       "count    42462.000000\n",
       "mean         6.014877\n",
       "std          1.256208\n",
       "min          0.500000\n",
       "25%          5.300000\n",
       "50%          6.100000\n",
       "75%          6.900000\n",
       "max         10.000000\n",
       "Name: vote_average, dtype: float64"
      ]
     },
     "execution_count": 67,
     "metadata": {},
     "output_type": "execute_result"
    }
   ],
   "source": [
    "df['vote_average'] = df['vote_average'].replace(0, np.nan)\n",
    "df['vote_average'].describe()"
   ]
  },
  {
   "cell_type": "code",
   "execution_count": 68,
   "metadata": {
    "_cell_guid": "ce5539ee-4014-456d-b982-933fe5540046",
    "_uuid": "6dd3895a7d7bad6c2236b73c285c79922821e609"
   },
   "outputs": [
    {
     "data": {
      "text/plain": [
       "<matplotlib.axes._subplots.AxesSubplot at 0x2020490e588>"
      ]
     },
     "execution_count": 68,
     "metadata": {},
     "output_type": "execute_result"
    },
    {
     "data": {
      "image/png": "[encoded data removed]",
      "text/plain": [
       "<Figure size 432x288 with 1 Axes>"
      ]
     },
     "metadata": {},
     "output_type": "display_data"
    }
   ],
   "source": [
    "sns.distplot(df['vote_average'].fillna(df['vote_average'].median()))"
   ]
  },
  {
   "cell_type": "code",
   "execution_count": 69,
   "metadata": {
    "_cell_guid": "cd95b464-b136-4c32-91a2-c878936b211c",
    "_uuid": "59fbdc5942eb1d80331c18c540deffb5c4cf4ddf"
   },
   "outputs": [
    {
     "data": {
      "text/html": [
       "<div>\n",
       "<style scoped>\n",
       "    .dataframe tbody tr th:only-of-type {\n",
       "        vertical-align: middle;\n",
       "    }\n",
       "\n",
       "    .dataframe tbody tr th {\n",
       "        vertical-align: top;\n",
       "    }\n",
       "\n",
       "    .dataframe thead th {\n",
       "        text-align: right;\n",
       "    }\n",
       "</style>\n",
       "<table border=\"1\" class=\"dataframe\">\n",
       "  <thead>\n",
       "    <tr style=\"text-align: right;\">\n",
       "      <th></th>\n",
       "      <th>title</th>\n",
       "      <th>vote_average</th>\n",
       "      <th>vote_count</th>\n",
       "      <th>year</th>\n",
       "    </tr>\n",
       "  </thead>\n",
       "  <tbody>\n",
       "    <tr>\n",
       "      <th>314</th>\n",
       "      <td>The Shawshank Redemption</td>\n",
       "      <td>8.5</td>\n",
       "      <td>8358.0</td>\n",
       "      <td>1994</td>\n",
       "    </tr>\n",
       "    <tr>\n",
       "      <th>834</th>\n",
       "      <td>The Godfather</td>\n",
       "      <td>8.5</td>\n",
       "      <td>6024.0</td>\n",
       "      <td>1972</td>\n",
       "    </tr>\n",
       "    <tr>\n",
       "      <th>2211</th>\n",
       "      <td>Life Is Beautiful</td>\n",
       "      <td>8.3</td>\n",
       "      <td>3643.0</td>\n",
       "      <td>1997</td>\n",
       "    </tr>\n",
       "    <tr>\n",
       "      <th>5481</th>\n",
       "      <td>Spirited Away</td>\n",
       "      <td>8.3</td>\n",
       "      <td>3968.0</td>\n",
       "      <td>2001</td>\n",
       "    </tr>\n",
       "    <tr>\n",
       "      <th>1152</th>\n",
       "      <td>One Flew Over the Cuckoo's Nest</td>\n",
       "      <td>8.3</td>\n",
       "      <td>3001.0</td>\n",
       "      <td>1975</td>\n",
       "    </tr>\n",
       "    <tr>\n",
       "      <th>1176</th>\n",
       "      <td>Psycho</td>\n",
       "      <td>8.3</td>\n",
       "      <td>2405.0</td>\n",
       "      <td>1960</td>\n",
       "    </tr>\n",
       "    <tr>\n",
       "      <th>2843</th>\n",
       "      <td>Fight Club</td>\n",
       "      <td>8.3</td>\n",
       "      <td>9678.0</td>\n",
       "      <td>1999</td>\n",
       "    </tr>\n",
       "    <tr>\n",
       "      <th>1178</th>\n",
       "      <td>The Godfather: Part II</td>\n",
       "      <td>8.3</td>\n",
       "      <td>3418.0</td>\n",
       "      <td>1974</td>\n",
       "    </tr>\n",
       "    <tr>\n",
       "      <th>12481</th>\n",
       "      <td>The Dark Knight</td>\n",
       "      <td>8.3</td>\n",
       "      <td>12269.0</td>\n",
       "      <td>2008</td>\n",
       "    </tr>\n",
       "    <tr>\n",
       "      <th>292</th>\n",
       "      <td>Pulp Fiction</td>\n",
       "      <td>8.3</td>\n",
       "      <td>8670.0</td>\n",
       "      <td>1994</td>\n",
       "    </tr>\n",
       "    <tr>\n",
       "      <th>23673</th>\n",
       "      <td>Whiplash</td>\n",
       "      <td>8.3</td>\n",
       "      <td>4376.0</td>\n",
       "      <td>2014</td>\n",
       "    </tr>\n",
       "    <tr>\n",
       "      <th>522</th>\n",
       "      <td>Schindler's List</td>\n",
       "      <td>8.3</td>\n",
       "      <td>4436.0</td>\n",
       "      <td>1993</td>\n",
       "    </tr>\n",
       "    <tr>\n",
       "      <th>1154</th>\n",
       "      <td>The Empire Strikes Back</td>\n",
       "      <td>8.2</td>\n",
       "      <td>5998.0</td>\n",
       "      <td>1980</td>\n",
       "    </tr>\n",
       "    <tr>\n",
       "      <th>1161</th>\n",
       "      <td>12 Angry Men</td>\n",
       "      <td>8.2</td>\n",
       "      <td>2130.0</td>\n",
       "      <td>1957</td>\n",
       "    </tr>\n",
       "    <tr>\n",
       "      <th>1170</th>\n",
       "      <td>GoodFellas</td>\n",
       "      <td>8.2</td>\n",
       "      <td>3211.0</td>\n",
       "      <td>1990</td>\n",
       "    </tr>\n",
       "    <tr>\n",
       "      <th>2216</th>\n",
       "      <td>American History X</td>\n",
       "      <td>8.2</td>\n",
       "      <td>3120.0</td>\n",
       "      <td>1998</td>\n",
       "    </tr>\n",
       "    <tr>\n",
       "      <th>351</th>\n",
       "      <td>Forrest Gump</td>\n",
       "      <td>8.2</td>\n",
       "      <td>8147.0</td>\n",
       "      <td>1994</td>\n",
       "    </tr>\n",
       "    <tr>\n",
       "      <th>289</th>\n",
       "      <td>Leon: The Professional</td>\n",
       "      <td>8.2</td>\n",
       "      <td>4293.0</td>\n",
       "      <td>1994</td>\n",
       "    </tr>\n",
       "    <tr>\n",
       "      <th>2884</th>\n",
       "      <td>Princess Mononoke</td>\n",
       "      <td>8.2</td>\n",
       "      <td>2041.0</td>\n",
       "      <td>1997</td>\n",
       "    </tr>\n",
       "    <tr>\n",
       "      <th>18465</th>\n",
       "      <td>The Intouchables</td>\n",
       "      <td>8.2</td>\n",
       "      <td>5410.0</td>\n",
       "      <td>2011</td>\n",
       "    </tr>\n",
       "  </tbody>\n",
       "</table>\n",
       "</div>"
      ],
      "text/plain": [
       "                                 title  vote_average  vote_count  year\n",
       "314           The Shawshank Redemption           8.5      8358.0  1994\n",
       "834                      The Godfather           8.5      6024.0  1972\n",
       "2211                 Life Is Beautiful           8.3      3643.0  1997\n",
       "5481                     Spirited Away           8.3      3968.0  2001\n",
       "1152   One Flew Over the Cuckoo's Nest           8.3      3001.0  1975\n",
       "1176                            Psycho           8.3      2405.0  1960\n",
       "2843                        Fight Club           8.3      9678.0  1999\n",
       "1178            The Godfather: Part II           8.3      3418.0  1974\n",
       "12481                  The Dark Knight           8.3     12269.0  2008\n",
       "292                       Pulp Fiction           8.3      8670.0  1994\n",
       "23673                         Whiplash           8.3      4376.0  2014\n",
       "522                   Schindler's List           8.3      4436.0  1993\n",
       "1154           The Empire Strikes Back           8.2      5998.0  1980\n",
       "1161                      12 Angry Men           8.2      2130.0  1957\n",
       "1170                        GoodFellas           8.2      3211.0  1990\n",
       "2216                American History X           8.2      3120.0  1998\n",
       "351                       Forrest Gump           8.2      8147.0  1994\n",
       "289             Leon: The Professional           8.2      4293.0  1994\n",
       "2884                 Princess Mononoke           8.2      2041.0  1997\n",
       "18465                 The Intouchables           8.2      5410.0  2011"
      ]
     },
     "execution_count": 69,
     "metadata": {},
     "output_type": "execute_result"
    }
   ],
   "source": [
    "df[df['vote_count'] > 2000][['title', 'vote_average', 'vote_count' ,'year']].sort_values('vote_average', ascending=False).head(20)"
   ]
  },
  {
   "cell_type": "code",
   "execution_count": 70,
   "metadata": {
    "_cell_guid": "646353ff-7883-4cd3-b75f-50d46849bc86",
    "_uuid": "fcceec27a096ce4007d058cb0ebb6070d6dcbb65"
   },
   "outputs": [
    {
     "data": {
      "text/plain": [
       "<seaborn.axisgrid.JointGrid at 0x20279643148>"
      ]
     },
     "execution_count": 70,
     "metadata": {},
     "output_type": "execute_result"
    },
    {
     "data": {
      "image/png": "[encoded data removed]",
      "text/plain": [
       "<Figure size 432x432 with 3 Axes>"
      ]
     },
     "metadata": {},
     "output_type": "display_data"
    }
   ],
   "source": [
    "sns.jointplot(x='vote_average', y='popularity', data=df)"
   ]
  },
  {
   "cell_type": "code",
   "execution_count": 71,
   "metadata": {
    "_cell_guid": "c5a9d0d0-b29b-4f55-a8de-36173c18501f",
    "_uuid": "7605daf2985bce616a30ba1a58774d1df2949a42"
   },
   "outputs": [
    {
     "data": {
      "text/plain": [
       "<seaborn.axisgrid.JointGrid at 0x202052c3a48>"
      ]
     },
     "execution_count": 71,
     "metadata": {},
     "output_type": "execute_result"
    },
    {
     "data": {
      "image/png": "[encoded data removed]",
      "text/plain": [
       "<Figure size 432x432 with 3 Axes>"
      ]
     },
     "metadata": {},
     "output_type": "display_data"
    }
   ],
   "source": [
    "sns.jointplot(x='vote_average', y='vote_count', data=df)"
   ]
  },
  {
   "cell_type": "code",
   "execution_count": 72,
   "metadata": {
    "_cell_guid": "46c2c44b-1c90-4386-950f-999c4f251bcb",
    "_uuid": "6394b891b5bc56ba4e8f40fc2738d366e1636bdf"
   },
   "outputs": [],
   "source": [
    "month_order = ['Jan', 'Feb', 'Mar', 'Apr', 'May', 'Jun', 'Jul', 'Aug', 'Sep', 'Oct', 'Nov', 'Dec']\n",
    "day_order = ['Mon', 'Tue', 'Wed', 'Thu', 'Fri', 'Sat', 'Sun']"
   ]
  },
  {
   "cell_type": "code",
   "execution_count": 73,
   "metadata": {
    "_cell_guid": "d0d186f6-ee22-4062-812a-1f2a1bbf27a1",
    "_uuid": "0d756782b22a73630ad4a255a34e347a5fa56406"
   },
   "outputs": [],
   "source": [
    "def get_month(x):\n",
    "    try:\n",
    "        return month_order[int(str(x).split('-')[1]) - 1]\n",
    "    except:\n",
    "        return np.nan"
   ]
  },
  {
   "cell_type": "code",
   "execution_count": 74,
   "metadata": {
    "_cell_guid": "bc6821cc-a113-45b3-9372-5596ab7a7216",
    "_uuid": "fd4b983f0a33d912671b396a2bcb327c4c855c28"
   },
   "outputs": [],
   "source": [
    "def get_day(x):\n",
    "    try:\n",
    "        year, month, day = (int(i) for i in x.split('-'))    \n",
    "        answer = datetime.date(year, month, day).weekday()\n",
    "        return day_order[answer]\n",
    "    except:\n",
    "        return np.nan"
   ]
  },
  {
   "cell_type": "code",
   "execution_count": 75,
   "metadata": {
    "_cell_guid": "f85706b5-8c08-4ed6-8636-15f4e1ab9bb3",
    "_uuid": "35947e8f6c26efe70be94124a081524ece119190"
   },
   "outputs": [],
   "source": [
    "df['day'] = df['release_date'].apply(get_day)\n",
    "df['month'] = df['release_date'].apply(get_month)"
   ]
  },
  {
   "cell_type": "code",
   "execution_count": 76,
   "metadata": {
    "_cell_guid": "a2bb569b-fdc2-4ad9-a0af-429a29690668",
    "_uuid": "3af6c851ffa4f4771ee7ab7990833c578f6f69e9",
    "scrolled": true
   },
   "outputs": [],
   "source": [
    "month_mean = pd.DataFrame(df[df['revenue'] > 1e8].groupby('month')['revenue'].mean())\n",
    "month_mean['mon'] = month_mean.index\n"
   ]
  },
  {
   "cell_type": "code",
   "execution_count": 77,
   "metadata": {
    "_cell_guid": "b07ceb4c-321f-4ecc-9070-dc3ca83b5d4e",
    "_uuid": "0ab7ca5c222ab181f1256e86b33c2e028bbb0e50"
   },
   "outputs": [
    {
     "data": {
      "text/plain": [
       "<matplotlib.axes._subplots.AxesSubplot at 0x2020475b808>"
      ]
     },
     "execution_count": 77,
     "metadata": {},
     "output_type": "execute_result"
    },
    {
     "data": {
      "image/png": "[encoded data removed]",
      "text/plain": [
       "<Figure size 1296x360 with 1 Axes>"
      ]
     },
     "metadata": {},
     "output_type": "display_data"
    }
   ],
   "source": [
    "year_count = df.groupby('year')['title'].count()\n",
    "plt.figure(figsize=(18,5))\n",
    "year_count.plot()"
   ]
  },
  {
   "cell_type": "code",
   "execution_count": 78,
   "metadata": {
    "_cell_guid": "cc403fdf-81d4-43c2-b50b-c716b5ad7832",
    "_uuid": "60d538c424565e73f234d609de9d246e2a938f72"
   },
   "outputs": [
    {
     "data": {
      "text/html": [
       "<div>\n",
       "<style scoped>\n",
       "    .dataframe tbody tr th:only-of-type {\n",
       "        vertical-align: middle;\n",
       "    }\n",
       "\n",
       "    .dataframe tbody tr th {\n",
       "        vertical-align: top;\n",
       "    }\n",
       "\n",
       "    .dataframe thead th {\n",
       "        text-align: right;\n",
       "    }\n",
       "</style>\n",
       "<table border=\"1\" class=\"dataframe\">\n",
       "  <thead>\n",
       "    <tr style=\"text-align: right;\">\n",
       "      <th></th>\n",
       "      <th>title</th>\n",
       "      <th>year</th>\n",
       "    </tr>\n",
       "  </thead>\n",
       "  <tbody>\n",
       "    <tr>\n",
       "      <th>34940</th>\n",
       "      <td>Passage of Venus</td>\n",
       "      <td>1874</td>\n",
       "    </tr>\n",
       "    <tr>\n",
       "      <th>34937</th>\n",
       "      <td>Sallie Gardner at a Gallop</td>\n",
       "      <td>1878</td>\n",
       "    </tr>\n",
       "    <tr>\n",
       "      <th>41602</th>\n",
       "      <td>Buffalo Running</td>\n",
       "      <td>1883</td>\n",
       "    </tr>\n",
       "    <tr>\n",
       "      <th>34933</th>\n",
       "      <td>Man Walking Around a Corner</td>\n",
       "      <td>1887</td>\n",
       "    </tr>\n",
       "    <tr>\n",
       "      <th>34934</th>\n",
       "      <td>Accordion Player</td>\n",
       "      <td>1888</td>\n",
       "    </tr>\n",
       "    <tr>\n",
       "      <th>34938</th>\n",
       "      <td>Traffic Crossing Leeds Bridge</td>\n",
       "      <td>1888</td>\n",
       "    </tr>\n",
       "    <tr>\n",
       "      <th>34936</th>\n",
       "      <td>Monkeyshines, No. 2</td>\n",
       "      <td>1890</td>\n",
       "    </tr>\n",
       "    <tr>\n",
       "      <th>34939</th>\n",
       "      <td>London's Trafalgar Square</td>\n",
       "      <td>1890</td>\n",
       "    </tr>\n",
       "    <tr>\n",
       "      <th>34935</th>\n",
       "      <td>Monkeyshines, No. 1</td>\n",
       "      <td>1890</td>\n",
       "    </tr>\n",
       "    <tr>\n",
       "      <th>41194</th>\n",
       "      <td>Mosquinha</td>\n",
       "      <td>1890</td>\n",
       "    </tr>\n",
       "  </tbody>\n",
       "</table>\n",
       "</div>"
      ],
      "text/plain": [
       "                               title  year\n",
       "34940               Passage of Venus  1874\n",
       "34937     Sallie Gardner at a Gallop  1878\n",
       "41602                Buffalo Running  1883\n",
       "34933    Man Walking Around a Corner  1887\n",
       "34934               Accordion Player  1888\n",
       "34938  Traffic Crossing Leeds Bridge  1888\n",
       "34936            Monkeyshines, No. 2  1890\n",
       "34939      London's Trafalgar Square  1890\n",
       "34935            Monkeyshines, No. 1  1890\n",
       "41194                      Mosquinha  1890"
      ]
     },
     "execution_count": 78,
     "metadata": {},
     "output_type": "execute_result"
    }
   ],
   "source": [
    "df[df['year'] != 'NaT'][['title', 'year']].sort_values('year').head(10)"
   ]
  },
  {
   "cell_type": "code",
   "execution_count": 79,
   "metadata": {
    "_cell_guid": "62bbd924-f428-4191-b459-550834ac36ef",
    "_uuid": "5cb3411e24dba5ca1a1ec9a01e6f145864558627"
   },
   "outputs": [],
   "source": [
    "months = {'Jan': 1, 'Feb': 2, 'Mar': 3, 'Apr': 4, 'May': 5, 'Jun': 6, 'Jul': 7, 'Aug': 8, 'Sep': 9, 'Oct': 10, 'Nov': 11, 'Dec': 12}"
   ]
  },
  {
   "cell_type": "code",
   "execution_count": 80,
   "metadata": {
    "_cell_guid": "f2dfec95-b96a-483f-9609-c0c4462736d1",
    "_uuid": "3f47c5630e9ba1988028fdb331fd52d3b983d15d"
   },
   "outputs": [],
   "source": [
    "df_21 = df.copy()\n",
    "df_21['year'] = df_21[df_21['year'] != 'NaT']['year'].astype(int)\n",
    "df_21 = df_21[df_21['year'] >=2000]\n",
    "hmap_21 = pd.pivot_table(data=df_21, index='month', columns='year', aggfunc='count', values='title')\n",
    "hmap_21 = hmap_21.fillna(0)"
   ]
  },
  {
   "cell_type": "code",
   "execution_count": 81,
   "metadata": {
    "_cell_guid": "74809f3f-3c90-45ce-81e2-41d774dcc615",
    "_uuid": "c3ff5f257c77fc3e260bb086b1240d9c17421122"
   },
   "outputs": [
    {
     "data": {
      "text/plain": [
       "<matplotlib.axes._subplots.AxesSubplot at 0x202045efec8>"
      ]
     },
     "execution_count": 81,
     "metadata": {},
     "output_type": "execute_result"
    },
    {
     "data": {
      "image/png": "[encoded data removed]",
      "text/plain": [
       "<Figure size 1152x576 with 2 Axes>"
      ]
     },
     "metadata": {},
     "output_type": "display_data"
    }
   ],
   "source": [
    "sns.set(font_scale=1)\n",
    "f, ax = plt.subplots(figsize=(16, 8))\n",
    "sns.heatmap(hmap_21, annot=True, linewidths=.5, ax=ax, fmt='n', yticklabels=month_order,cmap=\"YlGnBu\")"
   ]
  },
  {
   "cell_type": "code",
   "execution_count": 82,
   "metadata": {
    "_cell_guid": "103e4f49-5a5f-4549-9f9d-06649e4e9c85",
    "_uuid": "aea4a5b68b7c798ef26d67b03ec3a22eb49e42c3"
   },
   "outputs": [],
   "source": [
    "sns.set(font_scale=1.25)"
   ]
  },
  {
   "cell_type": "code",
   "execution_count": 83,
   "metadata": {
    "_cell_guid": "76ea778e-bdb1-422a-8422-b8b4092578e2",
    "_uuid": "3d0588c454a05b8641a619e8e909011709386dc1"
   },
   "outputs": [],
   "source": [
    "df['spoken_languages'] = df['spoken_languages'].fillna('[]').apply(ast.literal_eval).apply(lambda x: len(x) if isinstance(x, list) else np.nan)"
   ]
  },
  {
   "cell_type": "code",
   "execution_count": 84,
   "metadata": {
    "_cell_guid": "1c55c803-3296-4de8-b38e-dd9c5b63590e",
    "_uuid": "84207eef3b6992ce4ba61886498de3340cfe43a4"
   },
   "outputs": [],
   "source": [
    "df['runtime'] = df['runtime'].astype('float')"
   ]
  },
  {
   "cell_type": "code",
   "execution_count": 85,
   "metadata": {
    "_cell_guid": "8edfebea-a06e-4e0b-8f55-f1e7986c3fce",
    "_uuid": "65c04b00e04f67fe728b6873b59f17c273445551"
   },
   "outputs": [
    {
     "data": {
      "image/png": "[encoded data removed]",
      "text/plain": [
       "<Figure size 432x432 with 3 Axes>"
      ]
     },
     "metadata": {},
     "output_type": "display_data"
    }
   ],
   "source": [
    "df_mat = df[(df['return'].notnull()) & (df['runtime'] > 0) & (df['return'] < 10)]\n",
    "sns.jointplot('return', 'runtime', data=df_mat)\n",
    "plt.show()"
   ]
  },
  {
   "cell_type": "code",
   "execution_count": 86,
   "metadata": {
    "_cell_guid": "9e9b5a33-d0c7-426c-a924-7bebee130774",
    "_uuid": "e34127a778e6581a3b8f7a4bd418553b0b827f8d"
   },
   "outputs": [
    {
     "data": {
      "image/png": "[encoded data removed]",
      "text/plain": [
       "<Figure size 432x432 with 3 Axes>"
      ]
     },
     "metadata": {},
     "output_type": "display_data"
    }
   ],
   "source": [
    "df_mat = df[(df['budget'].notnull()) & (df['runtime'] > 0)]\n",
    "sns.jointplot('budget', 'runtime', data=df_mat)\n",
    "plt.show()"
   ]
  },
  {
   "cell_type": "code",
   "execution_count": 87,
   "metadata": {},
   "outputs": [
    {
     "data": {
      "image/png": "[encoded data removed]",
      "text/plain": [
       "<Figure size 432x432 with 3 Axes>"
      ]
     },
     "metadata": {},
     "output_type": "display_data"
    }
   ],
   "source": [
    "df_mat = df[(df['revenue'].notnull()) & (df['runtime'] > 0)]\n",
    "sns.jointplot('revenue', 'runtime', data=df_mat)\n",
    "plt.show()"
   ]
  },
  {
   "cell_type": "code",
   "execution_count": 88,
   "metadata": {
    "_cell_guid": "f0755db5-743f-49a1-8d33-5300f751be6a",
    "_uuid": "2a330792c28467af661a2c8e15174efe7deb2f34"
   },
   "outputs": [],
   "source": [
    "\n",
    "year_runtime = df[df['year'] != 'NaT'].groupby('year')['runtime'].mean()\n"
   ]
  },
  {
   "cell_type": "code",
   "execution_count": 173,
   "metadata": {
    "_cell_guid": "a6b737fe-570c-486e-a811-7e02e803bbe3",
    "_uuid": "4a9d68e7869844179914ebb60f7f386b239a1f5c"
   },
   "outputs": [
    {
     "data": {
      "text/html": [
       "<div>\n",
       "<style scoped>\n",
       "    .dataframe tbody tr th:only-of-type {\n",
       "        vertical-align: middle;\n",
       "    }\n",
       "\n",
       "    .dataframe tbody tr th {\n",
       "        vertical-align: top;\n",
       "    }\n",
       "\n",
       "    .dataframe thead th {\n",
       "        text-align: right;\n",
       "    }\n",
       "</style>\n",
       "<table border=\"1\" class=\"dataframe\">\n",
       "  <thead>\n",
       "    <tr style=\"text-align: right;\">\n",
       "      <th></th>\n",
       "      <th>title</th>\n",
       "      <th>budget</th>\n",
       "      <th>revenue</th>\n",
       "      <th>return</th>\n",
       "      <th>year</th>\n",
       "    </tr>\n",
       "  </thead>\n",
       "  <tbody>\n",
       "    <tr>\n",
       "      <th>17193</th>\n",
       "      <td>Pirates of the Caribbean: On Stranger Tides</td>\n",
       "      <td>380000000.0</td>\n",
       "      <td>1.045714e+09</td>\n",
       "      <td>2.751878</td>\n",
       "      <td>2011.0</td>\n",
       "    </tr>\n",
       "    <tr>\n",
       "      <th>11872</th>\n",
       "      <td>Pirates of the Caribbean: At World's End</td>\n",
       "      <td>300000000.0</td>\n",
       "      <td>9.610000e+08</td>\n",
       "      <td>3.203333</td>\n",
       "      <td>2007.0</td>\n",
       "    </tr>\n",
       "    <tr>\n",
       "      <th>26643</th>\n",
       "      <td>Avengers: Age of Ultron</td>\n",
       "      <td>280000000.0</td>\n",
       "      <td>1.405404e+09</td>\n",
       "      <td>5.019299</td>\n",
       "      <td>2015.0</td>\n",
       "    </tr>\n",
       "    <tr>\n",
       "      <th>11106</th>\n",
       "      <td>Superman Returns</td>\n",
       "      <td>270000000.0</td>\n",
       "      <td>3.910812e+08</td>\n",
       "      <td>1.448449</td>\n",
       "      <td>2006.0</td>\n",
       "    </tr>\n",
       "    <tr>\n",
       "      <th>44915</th>\n",
       "      <td>Transformers: The Last Knight</td>\n",
       "      <td>260000000.0</td>\n",
       "      <td>6.049421e+08</td>\n",
       "      <td>2.326701</td>\n",
       "      <td>2017.0</td>\n",
       "    </tr>\n",
       "    <tr>\n",
       "      <th>16197</th>\n",
       "      <td>Tangled</td>\n",
       "      <td>260000000.0</td>\n",
       "      <td>5.917949e+08</td>\n",
       "      <td>2.276134</td>\n",
       "      <td>2010.0</td>\n",
       "    </tr>\n",
       "    <tr>\n",
       "      <th>18757</th>\n",
       "      <td>John Carter</td>\n",
       "      <td>260000000.0</td>\n",
       "      <td>2.841391e+08</td>\n",
       "      <td>1.092843</td>\n",
       "      <td>2012.0</td>\n",
       "    </tr>\n",
       "    <tr>\n",
       "      <th>11825</th>\n",
       "      <td>Spider-Man 3</td>\n",
       "      <td>258000000.0</td>\n",
       "      <td>8.908716e+08</td>\n",
       "      <td>3.452991</td>\n",
       "      <td>2007.0</td>\n",
       "    </tr>\n",
       "    <tr>\n",
       "      <th>21248</th>\n",
       "      <td>The Lone Ranger</td>\n",
       "      <td>255000000.0</td>\n",
       "      <td>8.928991e+07</td>\n",
       "      <td>0.350157</td>\n",
       "      <td>2013.0</td>\n",
       "    </tr>\n",
       "    <tr>\n",
       "      <th>43330</th>\n",
       "      <td>The Fate of the Furious</td>\n",
       "      <td>250000000.0</td>\n",
       "      <td>1.238765e+09</td>\n",
       "      <td>4.955059</td>\n",
       "      <td>2017.0</td>\n",
       "    </tr>\n",
       "    <tr>\n",
       "      <th>23429</th>\n",
       "      <td>X-Men: Days of Future Past</td>\n",
       "      <td>250000000.0</td>\n",
       "      <td>7.478628e+08</td>\n",
       "      <td>2.991451</td>\n",
       "      <td>2014.0</td>\n",
       "    </tr>\n",
       "    <tr>\n",
       "      <th>18324</th>\n",
       "      <td>The Dark Knight Rises</td>\n",
       "      <td>250000000.0</td>\n",
       "      <td>1.084939e+09</td>\n",
       "      <td>4.339756</td>\n",
       "      <td>2012.0</td>\n",
       "    </tr>\n",
       "    <tr>\n",
       "      <th>16195</th>\n",
       "      <td>Harry Potter and the Deathly Hallows: Part 1</td>\n",
       "      <td>250000000.0</td>\n",
       "      <td>9.543059e+08</td>\n",
       "      <td>3.817223</td>\n",
       "      <td>2010.0</td>\n",
       "    </tr>\n",
       "    <tr>\n",
       "      <th>26652</th>\n",
       "      <td>Captain America: Civil War</td>\n",
       "      <td>250000000.0</td>\n",
       "      <td>1.153304e+09</td>\n",
       "      <td>4.613218</td>\n",
       "      <td>2016.0</td>\n",
       "    </tr>\n",
       "    <tr>\n",
       "      <th>25461</th>\n",
       "      <td>The Hobbit: The Battle of the Five Armies</td>\n",
       "      <td>250000000.0</td>\n",
       "      <td>9.560198e+08</td>\n",
       "      <td>3.824079</td>\n",
       "      <td>2014.0</td>\n",
       "    </tr>\n",
       "    <tr>\n",
       "      <th>31152</th>\n",
       "      <td>Batman v Superman: Dawn of Justice</td>\n",
       "      <td>250000000.0</td>\n",
       "      <td>8.732602e+08</td>\n",
       "      <td>3.493041</td>\n",
       "      <td>2016.0</td>\n",
       "    </tr>\n",
       "    <tr>\n",
       "      <th>13950</th>\n",
       "      <td>Harry Potter and the Half-Blood Prince</td>\n",
       "      <td>250000000.0</td>\n",
       "      <td>9.339592e+08</td>\n",
       "      <td>3.735837</td>\n",
       "      <td>2009.0</td>\n",
       "    </tr>\n",
       "    <tr>\n",
       "      <th>20048</th>\n",
       "      <td>The Hobbit: An Unexpected Journey</td>\n",
       "      <td>250000000.0</td>\n",
       "      <td>1.021104e+09</td>\n",
       "      <td>4.084414</td>\n",
       "      <td>2012.0</td>\n",
       "    </tr>\n",
       "    <tr>\n",
       "      <th>22131</th>\n",
       "      <td>The Hobbit: The Desolation of Smaug</td>\n",
       "      <td>250000000.0</td>\n",
       "      <td>9.584000e+08</td>\n",
       "      <td>3.833600</td>\n",
       "      <td>2013.0</td>\n",
       "    </tr>\n",
       "    <tr>\n",
       "      <th>30841</th>\n",
       "      <td>Spectre</td>\n",
       "      <td>245000000.0</td>\n",
       "      <td>8.806746e+08</td>\n",
       "      <td>3.594590</td>\n",
       "      <td>2015.0</td>\n",
       "    </tr>\n",
       "  </tbody>\n",
       "</table>\n",
       "</div>"
      ],
      "text/plain": [
       "                                              title       budget  \\\n",
       "17193   Pirates of the Caribbean: On Stranger Tides  380000000.0   \n",
       "11872      Pirates of the Caribbean: At World's End  300000000.0   \n",
       "26643                       Avengers: Age of Ultron  280000000.0   \n",
       "11106                              Superman Returns  270000000.0   \n",
       "44915                 Transformers: The Last Knight  260000000.0   \n",
       "16197                                       Tangled  260000000.0   \n",
       "18757                                   John Carter  260000000.0   \n",
       "11825                                  Spider-Man 3  258000000.0   \n",
       "21248                               The Lone Ranger  255000000.0   \n",
       "43330                       The Fate of the Furious  250000000.0   \n",
       "23429                    X-Men: Days of Future Past  250000000.0   \n",
       "18324                         The Dark Knight Rises  250000000.0   \n",
       "16195  Harry Potter and the Deathly Hallows: Part 1  250000000.0   \n",
       "26652                    Captain America: Civil War  250000000.0   \n",
       "25461     The Hobbit: The Battle of the Five Armies  250000000.0   \n",
       "31152            Batman v Superman: Dawn of Justice  250000000.0   \n",
       "13950        Harry Potter and the Half-Blood Prince  250000000.0   \n",
       "20048             The Hobbit: An Unexpected Journey  250000000.0   \n",
       "22131           The Hobbit: The Desolation of Smaug  250000000.0   \n",
       "30841                                       Spectre  245000000.0   \n",
       "\n",
       "            revenue    return    year  \n",
       "17193  1.045714e+09  2.751878  2011.0  \n",
       "11872  9.610000e+08  3.203333  2007.0  \n",
       "26643  1.405404e+09  5.019299  2015.0  \n",
       "11106  3.910812e+08  1.448449  2006.0  \n",
       "44915  6.049421e+08  2.326701  2017.0  \n",
       "16197  5.917949e+08  2.276134  2010.0  \n",
       "18757  2.841391e+08  1.092843  2012.0  \n",
       "11825  8.908716e+08  3.452991  2007.0  \n",
       "21248  8.928991e+07  0.350157  2013.0  \n",
       "43330  1.238765e+09  4.955059  2017.0  \n",
       "23429  7.478628e+08  2.991451  2014.0  \n",
       "18324  1.084939e+09  4.339756  2012.0  \n",
       "16195  9.543059e+08  3.817223  2010.0  \n",
       "26652  1.153304e+09  4.613218  2016.0  \n",
       "25461  9.560198e+08  3.824079  2014.0  \n",
       "31152  8.732602e+08  3.493041  2016.0  \n",
       "13950  9.339592e+08  3.735837  2009.0  \n",
       "20048  1.021104e+09  4.084414  2012.0  \n",
       "22131  9.584000e+08  3.833600  2013.0  \n",
       "30841  8.806746e+08  3.594590  2015.0  "
      ]
     },
     "execution_count": 173,
     "metadata": {},
     "output_type": "execute_result"
    }
   ],
   "source": [
    "df[df['budget'].notnull()][['title', 'budget', 'revenue', 'return', 'year']].sort_values('budget', ascending=False).head(20)"
   ]
  },
  {
   "cell_type": "code",
   "execution_count": 90,
   "metadata": {
    "_cell_guid": "4d4b937b-b6a0-466b-b8e4-c49b4d64b719",
    "_uuid": "e1db305191166e586393edd05d9699bceda7abf3"
   },
   "outputs": [
    {
     "data": {
      "text/plain": [
       "<seaborn.axisgrid.JointGrid at 0x20200471508>"
      ]
     },
     "execution_count": 90,
     "metadata": {},
     "output_type": "execute_result"
    },
    {
     "data": {
      "image/png": "[encoded data removed]",
      "text/plain": [
       "<Figure size 432x432 with 3 Axes>"
      ]
     },
     "metadata": {},
     "output_type": "display_data"
    }
   ],
   "source": [
    "sns.jointplot(x='budget',y='revenue',data=df[df['return'].notnull()])"
   ]
  },
  {
   "cell_type": "code",
   "execution_count": 91,
   "metadata": {
    "_cell_guid": "2efe39aa-a1d1-4d90-90f3-272b9505ce59",
    "_uuid": "8fe39856f3bdd4b7ed2603651353b0e21264c768"
   },
   "outputs": [],
   "source": [
    "df['year'] = df['year'].replace('NaT', np.nan)"
   ]
  },
  {
   "cell_type": "code",
   "execution_count": 92,
   "metadata": {
    "_cell_guid": "5fbd049f-1470-4dce-aa54-6b7170a99b4f",
    "_uuid": "c65b50fc111340ad7f931b8da29572adc9e54016"
   },
   "outputs": [],
   "source": [
    "df['year'] = df['year'].apply(clean_numeric)"
   ]
  },
  {
   "cell_type": "code",
   "execution_count": 93,
   "metadata": {
    "_cell_guid": "94698a20-8bc7-41ac-9cc0-00eb9aafdfbe",
    "_uuid": "d83d58f01d761555be287ebb1352f1111ae73730"
   },
   "outputs": [],
   "source": [
    "df['genres'] = df['genres'].fillna('[]').apply(ast.literal_eval).apply(lambda x: [i['name'] for i in x] if isinstance(x, list) else [])"
   ]
  },
  {
   "cell_type": "code",
   "execution_count": 94,
   "metadata": {
    "_cell_guid": "a2932405-c766-48e5-a2a7-5a8907abf3e2",
    "_uuid": "01bfaf72bae3e4b1d7e187ba75a7d9a304e3b715"
   },
   "outputs": [],
   "source": [
    "s = df.apply(lambda x: pd.Series(x['genres']),axis=1).stack().reset_index(level=1, drop=True)\n",
    "s.name = 'genre'"
   ]
  },
  {
   "cell_type": "code",
   "execution_count": 95,
   "metadata": {
    "_cell_guid": "118a8148-8110-4e0d-901c-6f0cdfd1d87c",
    "_uuid": "c7c8169ed387344d514bb97df4e7a76262cba69d"
   },
   "outputs": [],
   "source": [
    "gen_df = df.drop('genres', axis=1).join(s)"
   ]
  },
  {
   "cell_type": "code",
   "execution_count": 96,
   "metadata": {
    "_cell_guid": "609338c4-4d99-4af8-aa2b-ca9478f1acf5",
    "_uuid": "01e32b9b382a186867c6cccd252435875d65ae5c"
   },
   "outputs": [
    {
     "data": {
      "text/plain": [
       "32"
      ]
     },
     "execution_count": 96,
     "metadata": {},
     "output_type": "execute_result"
    }
   ],
   "source": [
    "gen_df['genre'].value_counts().shape[0]"
   ]
  },
  {
   "cell_type": "code",
   "execution_count": 97,
   "metadata": {
    "_cell_guid": "6084dff9-f369-498d-bdaa-20b48e627048",
    "_uuid": "111c8895361f0cc786c3b66ddcd902884f700c09"
   },
   "outputs": [],
   "source": [
    "genres = ['Drama', 'Comedy', 'Thriller', 'Romance', 'Action', 'Horror', 'Crime', 'Adventure', 'Science Fiction', 'Mystery', 'Fantasy', 'Mystery', 'Animation']"
   ]
  },
  {
   "cell_type": "code",
   "execution_count": 98,
   "metadata": {
    "_cell_guid": "27c71ee8-4121-4e52-b789-3893d7d09454",
    "_uuid": "a94d5c8b2b645e2b64e297b3d68a5f18bf49a5a2"
   },
   "outputs": [],
   "source": [
    "violin_genres = ['Drama', 'Comedy', 'Thriller', 'Romance', 'Action', 'Horror', 'Crime', 'Science Fiction', 'Fantasy', 'Animation']\n",
    "violin_movies = gen_df[(gen_df['genre'].isin(violin_genres))]"
   ]
  },
  {
   "cell_type": "code",
   "execution_count": 99,
   "metadata": {
    "_cell_guid": "3b2b4bed-584c-4efb-a2a4-17f630e36a29",
    "_uuid": "8bd05b44d6a42ff6d9ed1d723f2448adbc5f4720"
   },
   "outputs": [
    {
     "data": {
      "text/plain": [
       "<Figure size 1296x576 with 0 Axes>"
      ]
     },
     "metadata": {},
     "output_type": "display_data"
    },
    {
     "data": {
      "image/png": "[encoded data removed]",
      "text/plain": [
       "<Figure size 1080x576 with 1 Axes>"
      ]
     },
     "metadata": {},
     "output_type": "display_data"
    }
   ],
   "source": [
    "plt.figure(figsize=(18,8))\n",
    "fig, ax = plt.subplots(nrows=1, ncols=1,figsize=(15, 8))\n",
    "sns.boxplot(x='genre', y='revenue', data=violin_movies, palette=\"muted\", ax =ax)\n",
    "ax.set_ylim([0, 3e8])\n",
    "plt.show()"
   ]
  },
  {
   "cell_type": "code",
   "execution_count": 100,
   "metadata": {
    "_cell_guid": "7c062b92-00b0-48a9-8336-8047bdc9a77d",
    "_uuid": "dd307dbc9edbb81a1a2bfd63e73bc85ffe73a78e"
   },
   "outputs": [
    {
     "data": {
      "text/plain": [
       "<Figure size 1296x576 with 0 Axes>"
      ]
     },
     "metadata": {},
     "output_type": "display_data"
    },
    {
     "data": {
      "image/png": "[encoded data removed]",
      "text/plain": [
       "<Figure size 1080x576 with 1 Axes>"
      ]
     },
     "metadata": {},
     "output_type": "display_data"
    }
   ],
   "source": [
    "plt.figure(figsize=(18,8))\n",
    "fig, ax = plt.subplots(nrows=1, ncols=1,figsize=(15, 8))\n",
    "sns.boxplot(x='genre', y='return', data=violin_movies, palette=\"muted\", ax =ax)\n",
    "ax.set_ylim([0, 10])\n",
    "plt.show()"
   ]
  },
  {
   "cell_type": "code",
   "execution_count": 101,
   "metadata": {
    "_cell_guid": "3a782c7f-50fe-4e97-b3b9-a9622b79ba5d",
    "_uuid": "a7f0bf886859c51d5d979d73bda4dd818b385b42"
   },
   "outputs": [
    {
     "data": {
      "text/html": [
       "<div>\n",
       "<style scoped>\n",
       "    .dataframe tbody tr th:only-of-type {\n",
       "        vertical-align: middle;\n",
       "    }\n",
       "\n",
       "    .dataframe tbody tr th {\n",
       "        vertical-align: top;\n",
       "    }\n",
       "\n",
       "    .dataframe thead th {\n",
       "        text-align: right;\n",
       "    }\n",
       "</style>\n",
       "<table border=\"1\" class=\"dataframe\">\n",
       "  <thead>\n",
       "    <tr style=\"text-align: right;\">\n",
       "      <th></th>\n",
       "      <th>cast</th>\n",
       "      <th>crew</th>\n",
       "      <th>id</th>\n",
       "    </tr>\n",
       "  </thead>\n",
       "  <tbody>\n",
       "    <tr>\n",
       "      <th>0</th>\n",
       "      <td>[{'cast_id': 14, 'character': 'Woody (voice)',...</td>\n",
       "      <td>[{'credit_id': '52fe4284c3a36847f8024f49', 'de...</td>\n",
       "      <td>862</td>\n",
       "    </tr>\n",
       "    <tr>\n",
       "      <th>1</th>\n",
       "      <td>[{'cast_id': 1, 'character': 'Alan Parrish', '...</td>\n",
       "      <td>[{'credit_id': '52fe44bfc3a36847f80a7cd1', 'de...</td>\n",
       "      <td>8844</td>\n",
       "    </tr>\n",
       "    <tr>\n",
       "      <th>2</th>\n",
       "      <td>[{'cast_id': 2, 'character': 'Max Goldman', 'c...</td>\n",
       "      <td>[{'credit_id': '52fe466a9251416c75077a89', 'de...</td>\n",
       "      <td>15602</td>\n",
       "    </tr>\n",
       "    <tr>\n",
       "      <th>3</th>\n",
       "      <td>[{'cast_id': 1, 'character': \"Savannah 'Vannah...</td>\n",
       "      <td>[{'credit_id': '52fe44779251416c91011acb', 'de...</td>\n",
       "      <td>31357</td>\n",
       "    </tr>\n",
       "    <tr>\n",
       "      <th>4</th>\n",
       "      <td>[{'cast_id': 1, 'character': 'George Banks', '...</td>\n",
       "      <td>[{'credit_id': '52fe44959251416c75039ed7', 'de...</td>\n",
       "      <td>11862</td>\n",
       "    </tr>\n",
       "  </tbody>\n",
       "</table>\n",
       "</div>"
      ],
      "text/plain": [
       "                                                cast  \\\n",
       "0  [{'cast_id': 14, 'character': 'Woody (voice)',...   \n",
       "1  [{'cast_id': 1, 'character': 'Alan Parrish', '...   \n",
       "2  [{'cast_id': 2, 'character': 'Max Goldman', 'c...   \n",
       "3  [{'cast_id': 1, 'character': \"Savannah 'Vannah...   \n",
       "4  [{'cast_id': 1, 'character': 'George Banks', '...   \n",
       "\n",
       "                                                crew     id  \n",
       "0  [{'credit_id': '52fe4284c3a36847f8024f49', 'de...    862  \n",
       "1  [{'credit_id': '52fe44bfc3a36847f80a7cd1', 'de...   8844  \n",
       "2  [{'credit_id': '52fe466a9251416c75077a89', 'de...  15602  \n",
       "3  [{'credit_id': '52fe44779251416c91011acb', 'de...  31357  \n",
       "4  [{'credit_id': '52fe44959251416c75039ed7', 'de...  11862  "
      ]
     },
     "execution_count": 101,
     "metadata": {},
     "output_type": "execute_result"
    }
   ],
   "source": [
    "credits_df = pd.read_csv('credits.csv')\n",
    "credits_df.head()"
   ]
  },
  {
   "cell_type": "code",
   "execution_count": 102,
   "metadata": {
    "_cell_guid": "16e7c562-7270-4bd7-925b-0e48ab58d439",
    "_uuid": "93886038cafd2902c760bc80763e152e745fa50d"
   },
   "outputs": [],
   "source": [
    "def convert_int(x):\n",
    "    try:\n",
    "        return int(x)\n",
    "    except:\n",
    "        return np.nan"
   ]
  },
  {
   "cell_type": "code",
   "execution_count": 103,
   "metadata": {
    "_cell_guid": "a6baaf84-85b3-49f5-a8f5-10ea58748233",
    "_uuid": "80923a414911004c1469a38efc439fdf84d26b69"
   },
   "outputs": [],
   "source": [
    "df['id'] = df['id'].apply(convert_int)"
   ]
  },
  {
   "cell_type": "code",
   "execution_count": 104,
   "metadata": {
    "_cell_guid": "94e59171-179e-4e8f-8d47-fef16dede5f6",
    "_uuid": "df91192eb93b8ec6696e75c903b298fce9084319"
   },
   "outputs": [
    {
     "data": {
      "text/html": [
       "<div>\n",
       "<style scoped>\n",
       "    .dataframe tbody tr th:only-of-type {\n",
       "        vertical-align: middle;\n",
       "    }\n",
       "\n",
       "    .dataframe tbody tr th {\n",
       "        vertical-align: top;\n",
       "    }\n",
       "\n",
       "    .dataframe thead th {\n",
       "        text-align: right;\n",
       "    }\n",
       "</style>\n",
       "<table border=\"1\" class=\"dataframe\">\n",
       "  <thead>\n",
       "    <tr style=\"text-align: right;\">\n",
       "      <th></th>\n",
       "      <th>belongs_to_collection</th>\n",
       "      <th>budget</th>\n",
       "      <th>genres</th>\n",
       "      <th>homepage</th>\n",
       "      <th>id</th>\n",
       "      <th>original_language</th>\n",
       "      <th>overview</th>\n",
       "      <th>popularity</th>\n",
       "      <th>poster_path</th>\n",
       "      <th>production_companies</th>\n",
       "      <th>...</th>\n",
       "      <th>status</th>\n",
       "      <th>tagline</th>\n",
       "      <th>title</th>\n",
       "      <th>video</th>\n",
       "      <th>vote_average</th>\n",
       "      <th>vote_count</th>\n",
       "      <th>return</th>\n",
       "      <th>year</th>\n",
       "      <th>day</th>\n",
       "      <th>month</th>\n",
       "    </tr>\n",
       "  </thead>\n",
       "  <tbody>\n",
       "    <tr>\n",
       "      <th>19730</th>\n",
       "      <td>0.065736</td>\n",
       "      <td>NaN</td>\n",
       "      <td>[Carousel Productions, Vision View Entertainme...</td>\n",
       "      <td>[{'iso_3166_1': 'CA', 'name': 'Canada'}, {'iso...</td>\n",
       "      <td>NaN</td>\n",
       "      <td>104.0</td>\n",
       "      <td>Released</td>\n",
       "      <td>NaN</td>\n",
       "      <td>&lt;img src='http://image.tmdb.org/t/p/w185/Midni...</td>\n",
       "      <td>[]</td>\n",
       "      <td>...</td>\n",
       "      <td>NaN</td>\n",
       "      <td>NaN</td>\n",
       "      <td>nan</td>\n",
       "      <td>NaN</td>\n",
       "      <td>NaN</td>\n",
       "      <td>NaN</td>\n",
       "      <td>NaN</td>\n",
       "      <td>NaN</td>\n",
       "      <td>NaN</td>\n",
       "      <td>NaN</td>\n",
       "    </tr>\n",
       "    <tr>\n",
       "      <th>29503</th>\n",
       "      <td>1.931659</td>\n",
       "      <td>NaN</td>\n",
       "      <td>[Aniplex, GoHands, BROSTA TV, Mardock Scramble...</td>\n",
       "      <td>[{'iso_3166_1': 'US', 'name': 'United States o...</td>\n",
       "      <td>NaN</td>\n",
       "      <td>68.0</td>\n",
       "      <td>Released</td>\n",
       "      <td>NaN</td>\n",
       "      <td>&lt;img src='http://image.tmdb.org/t/p/w185/Mardo...</td>\n",
       "      <td>[]</td>\n",
       "      <td>...</td>\n",
       "      <td>NaN</td>\n",
       "      <td>NaN</td>\n",
       "      <td>nan</td>\n",
       "      <td>NaN</td>\n",
       "      <td>NaN</td>\n",
       "      <td>NaN</td>\n",
       "      <td>NaN</td>\n",
       "      <td>NaN</td>\n",
       "      <td>NaN</td>\n",
       "      <td>NaN</td>\n",
       "    </tr>\n",
       "    <tr>\n",
       "      <th>35587</th>\n",
       "      <td>2.185485</td>\n",
       "      <td>NaN</td>\n",
       "      <td>[Odyssey Media, Pulser Productions, Rogue Stat...</td>\n",
       "      <td>[{'iso_3166_1': 'CA', 'name': 'Canada'}]</td>\n",
       "      <td>NaN</td>\n",
       "      <td>82.0</td>\n",
       "      <td>Released</td>\n",
       "      <td>NaN</td>\n",
       "      <td>&lt;img src='http://image.tmdb.org/t/p/w185/Avala...</td>\n",
       "      <td>[]</td>\n",
       "      <td>...</td>\n",
       "      <td>NaN</td>\n",
       "      <td>NaN</td>\n",
       "      <td>nan</td>\n",
       "      <td>NaN</td>\n",
       "      <td>NaN</td>\n",
       "      <td>NaN</td>\n",
       "      <td>NaN</td>\n",
       "      <td>NaN</td>\n",
       "      <td>NaN</td>\n",
       "      <td>NaN</td>\n",
       "    </tr>\n",
       "  </tbody>\n",
       "</table>\n",
       "<p>3 rows × 25 columns</p>\n",
       "</div>"
      ],
      "text/plain": [
       "      belongs_to_collection  budget  \\\n",
       "19730              0.065736     NaN   \n",
       "29503              1.931659     NaN   \n",
       "35587              2.185485     NaN   \n",
       "\n",
       "                                                  genres  \\\n",
       "19730  [Carousel Productions, Vision View Entertainme...   \n",
       "29503  [Aniplex, GoHands, BROSTA TV, Mardock Scramble...   \n",
       "35587  [Odyssey Media, Pulser Productions, Rogue Stat...   \n",
       "\n",
       "                                                homepage  id  \\\n",
       "19730  [{'iso_3166_1': 'CA', 'name': 'Canada'}, {'iso... NaN   \n",
       "29503  [{'iso_3166_1': 'US', 'name': 'United States o... NaN   \n",
       "35587           [{'iso_3166_1': 'CA', 'name': 'Canada'}] NaN   \n",
       "\n",
       "      original_language  overview  popularity  \\\n",
       "19730             104.0  Released         NaN   \n",
       "29503              68.0  Released         NaN   \n",
       "35587              82.0  Released         NaN   \n",
       "\n",
       "                                             poster_path production_companies  \\\n",
       "19730  <img src='http://image.tmdb.org/t/p/w185/Midni...                   []   \n",
       "29503  <img src='http://image.tmdb.org/t/p/w185/Mardo...                   []   \n",
       "35587  <img src='http://image.tmdb.org/t/p/w185/Avala...                   []   \n",
       "\n",
       "       ... status tagline  title  video  vote_average vote_count return year  \\\n",
       "19730  ...    NaN     NaN    nan    NaN           NaN        NaN    NaN  NaN   \n",
       "29503  ...    NaN     NaN    nan    NaN           NaN        NaN    NaN  NaN   \n",
       "35587  ...    NaN     NaN    nan    NaN           NaN        NaN    NaN  NaN   \n",
       "\n",
       "       day  month  \n",
       "19730  NaN    NaN  \n",
       "29503  NaN    NaN  \n",
       "35587  NaN    NaN  \n",
       "\n",
       "[3 rows x 25 columns]"
      ]
     },
     "execution_count": 104,
     "metadata": {},
     "output_type": "execute_result"
    }
   ],
   "source": [
    "df[df['id'].isnull()]"
   ]
  },
  {
   "cell_type": "code",
   "execution_count": 105,
   "metadata": {
    "_cell_guid": "b709e472-9442-4abe-b4a9-dd36fea26a61",
    "_uuid": "f0388a62dcd46ec0f252c111c5d5a3042a47c474"
   },
   "outputs": [],
   "source": [
    "df = df.drop([19730, 29503, 35587])"
   ]
  },
  {
   "cell_type": "code",
   "execution_count": 106,
   "metadata": {
    "_cell_guid": "07edc375-3cdd-45e9-be1d-adc614ea8753",
    "_uuid": "1c705952d2cfd956411b544116d2e83147df8254"
   },
   "outputs": [],
   "source": [
    "df['id'] = df['id'].astype('int')"
   ]
  },
  {
   "cell_type": "code",
   "execution_count": 107,
   "metadata": {
    "_cell_guid": "199e6812-207b-44ff-bf1d-d0a44bfb35c7",
    "_uuid": "e77b026d21f79c76dfb36effaf42a1c6e46ef060"
   },
   "outputs": [
    {
     "data": {
      "text/plain": [
       "(45538, 27)"
      ]
     },
     "execution_count": 107,
     "metadata": {},
     "output_type": "execute_result"
    }
   ],
   "source": [
    "df = df.merge(credits_df, on='id')\n",
    "df.shape"
   ]
  },
  {
   "cell_type": "code",
   "execution_count": 108,
   "metadata": {
    "_cell_guid": "f30fdd03-9813-4d8e-bb75-d403253c8fd2",
    "_uuid": "416abaae3611feb42076450c755cb0f430d9b4ca"
   },
   "outputs": [],
   "source": [
    "df['cast'] = df['cast'].apply(ast.literal_eval)\n",
    "df['crew'] = df['crew'].apply(ast.literal_eval)"
   ]
  },
  {
   "cell_type": "code",
   "execution_count": 109,
   "metadata": {
    "_cell_guid": "1b1f628f-ce24-4a53-9a57-d8726d8ec552",
    "_uuid": "d7fb81f540ac14f4e3faf38033bb2a21d469be16"
   },
   "outputs": [],
   "source": [
    "df['cast_size'] = df['cast'].apply(lambda x: len(x))\n",
    "df['crew_size'] = df['crew'].apply(lambda x: len(x))"
   ]
  },
  {
   "cell_type": "code",
   "execution_count": 110,
   "metadata": {
    "_cell_guid": "1fbf7412-b10b-4c50-8b99-986b7630328a",
    "_uuid": "8ad8b016f37e833af20698073f9ef7bf9851ef90"
   },
   "outputs": [],
   "source": [
    "df['cast'] = df['cast'].apply(lambda x: [i['name'] for i in x] if isinstance(x, list) else [])"
   ]
  },
  {
   "cell_type": "code",
   "execution_count": 111,
   "metadata": {
    "_cell_guid": "dd74ded5-b351-4bf0-aec3-13f765d224f8",
    "_uuid": "00eb91290282069f443ecbf0526d8965f278c35b"
   },
   "outputs": [],
   "source": [
    "def get_director(x):\n",
    "    for i in x:\n",
    "        if i['job'] == 'Director':\n",
    "            return i['name']\n",
    "    return np.nan"
   ]
  },
  {
   "cell_type": "code",
   "execution_count": 112,
   "metadata": {
    "_cell_guid": "0ff6f257-7d38-445f-8749-7ac38c2853ca",
    "_uuid": "4ce9b67217bc82664312554c10a0bac95d063984"
   },
   "outputs": [],
   "source": [
    "df['director'] = df['crew'].apply(get_director)"
   ]
  },
  {
   "cell_type": "code",
   "execution_count": 113,
   "metadata": {
    "_cell_guid": "4d5dd45b-4f2b-4e4a-bfc1-83f0a513a960",
    "_uuid": "a998d3be2ac4ef644dd27a9fc372c74b25622635"
   },
   "outputs": [],
   "source": [
    "s = df.apply(lambda x: pd.Series(x['cast']),axis=1).stack().reset_index(level=1, drop=True)\n",
    "s.name = 'actor'\n",
    "cast_df = df.drop('cast', axis=1).join(s)"
   ]
  },
  {
   "cell_type": "code",
   "execution_count": 114,
   "metadata": {
    "_cell_guid": "8b19befe-7ec8-4b9a-889e-2d5fffbb784c",
    "_uuid": "a06e199bb19d400a18e2e7ca006cd1e352f5e73a"
   },
   "outputs": [
    {
     "data": {
      "image/png": "[encoded data removed]",
      "text/plain": [
       "<Figure size 432x288 with 1 Axes>"
      ]
     },
     "metadata": {},
     "output_type": "display_data"
    }
   ],
   "source": [
    "sns.set_style('whitegrid')\n",
    "plt.title('Actors with the Highest Total Revenue')\n",
    "cast_df.groupby('actor')['revenue'].sum().sort_values(ascending=False).head(10).plot(kind='bar')\n",
    "plt.show()"
   ]
  },
  {
   "cell_type": "code",
   "execution_count": 115,
   "metadata": {
    "_cell_guid": "18251447-63f3-4ab1-bfc2-d4d21f9bb5a0",
    "_uuid": "240847e3df5d42319aef6a184026ab5b8cbc8e86"
   },
   "outputs": [
    {
     "data": {
      "image/png": "[encoded data removed]",
      "text/plain": [
       "<Figure size 432x288 with 1 Axes>"
      ]
     },
     "metadata": {},
     "output_type": "display_data"
    }
   ],
   "source": [
    "plt.title('Directors with the Highest Total Revenue')\n",
    "df.groupby('director')['revenue'].sum().sort_values(ascending=False).head(10).plot(kind='bar', colormap='autumn')\n",
    "plt.show()"
   ]
  },
  {
   "cell_type": "code",
   "execution_count": 116,
   "metadata": {
    "_cell_guid": "db59ef96-39e2-4934-8e16-1caa924bf286",
    "_uuid": "674a16c36ad2c220d33f61544644b1965df38af9"
   },
   "outputs": [],
   "source": [
    "actor_list = cast_df.groupby('actor')['revenue'].count().sort_values(ascending=False)\n",
    "actor_list = list(actor_list[actor_list >= 5].index)\n",
    "director_list = df.groupby('director')['revenue'].count().sort_values(ascending=False)\n",
    "director_list = list(director_list[director_list >= 5].index)"
   ]
  },
  {
   "cell_type": "code",
   "execution_count": 117,
   "metadata": {
    "_cell_guid": "9083a4c5-718e-4065-ada6-6ab43b734c7e",
    "_uuid": "3adc86c0618dbb0c15f122411c75e0926eecff68"
   },
   "outputs": [
    {
     "data": {
      "image/png": "[encoded data removed]",
      "text/plain": [
       "<Figure size 432x288 with 1 Axes>"
      ]
     },
     "metadata": {},
     "output_type": "display_data"
    }
   ],
   "source": [
    "plt.title(\"Actors with Highest Average Revenue\")\n",
    "cast_df[cast_df['actor'].isin(actor_list)].groupby('actor')['revenue'].mean().sort_values(ascending=False).head(10).plot(kind='bar', colormap='Greens_r')\n",
    "plt.show()"
   ]
  },
  {
   "cell_type": "code",
   "execution_count": 118,
   "metadata": {
    "_cell_guid": "6ebb9851-5628-4e2e-ace6-96d915006ae4",
    "_uuid": "9b485d3ef3c5f58fb10caee19150f49852d1b84c"
   },
   "outputs": [
    {
     "data": {
      "image/png": "[encoded data removed]",
      "text/plain": [
       "<Figure size 432x288 with 1 Axes>"
      ]
     },
     "metadata": {},
     "output_type": "display_data"
    }
   ],
   "source": [
    "plt.title(\"Directors with Highest Average Revenue\")\n",
    "df[df['director'].isin(director_list)].groupby('director')['revenue'].mean().sort_values(ascending=False).head(10).plot(kind='bar', colormap='autumn_r')\n",
    "plt.show()"
   ]
  },
  {
   "cell_type": "markdown",
   "metadata": {
    "_cell_guid": "dacdb6c1-b714-44da-9f00-844602725383",
    "_uuid": "733cbd413f831804592d168c4a3d49ca91e6eda8"
   },
   "source": [
    "## Regression"
   ]
  },
  {
   "cell_type": "code",
   "execution_count": 119,
   "metadata": {
    "_cell_guid": "2df5298e-3354-459a-99ac-d45f08a60703",
    "_uuid": "bda956a996e4ec895db002974abab15a806121d4"
   },
   "outputs": [
    {
     "data": {
      "text/plain": [
       "(5393, 30)"
      ]
     },
     "execution_count": 119,
     "metadata": {},
     "output_type": "execute_result"
    }
   ],
   "source": [
    "rgf = df[df['return'].notnull()]\n",
    "rgf.shape"
   ]
  },
  {
   "cell_type": "code",
   "execution_count": 120,
   "metadata": {
    "_cell_guid": "e4df9013-17bb-41c1-b238-b8993a40b045",
    "_uuid": "3d6b3e52be8e46cf59ad9b90b2f31a5396d8131d"
   },
   "outputs": [
    {
     "data": {
      "text/plain": [
       "Index(['belongs_to_collection', 'budget', 'genres', 'homepage', 'id',\n",
       "       'original_language', 'overview', 'popularity', 'poster_path',\n",
       "       'production_companies', 'production_countries', 'release_date',\n",
       "       'revenue', 'runtime', 'spoken_languages', 'status', 'tagline', 'title',\n",
       "       'video', 'vote_average', 'vote_count', 'return', 'year', 'day', 'month',\n",
       "       'cast', 'crew', 'cast_size', 'crew_size', 'director'],\n",
       "      dtype='object')"
      ]
     },
     "execution_count": 120,
     "metadata": {},
     "output_type": "execute_result"
    }
   ],
   "source": [
    "rgf.columns"
   ]
  },
  {
   "cell_type": "code",
   "execution_count": 121,
   "metadata": {
    "_cell_guid": "4f4e2257-06e7-4f87-99b2-f2c69cc498cc",
    "_uuid": "416c3679868cca0b91ed8e8ce7003115334b0074"
   },
   "outputs": [],
   "source": [
    "rgf = rgf.drop(['id', 'overview', 'poster_path', 'release_date', 'status', 'tagline', 'video', 'return', 'crew'], axis=1)"
   ]
  },
  {
   "cell_type": "code",
   "execution_count": 122,
   "metadata": {
    "_cell_guid": "7d267793-43d6-4216-af4f-9220105253ea",
    "_uuid": "7494c716e01919f3f32604065b1077a128f60e79"
   },
   "outputs": [],
   "source": [
    "s = rgf.apply(lambda x: pd.Series(x['genres']),axis=1).stack().reset_index(level=1, drop=True)\n",
    "s.name = 'genre'\n",
    "gen_rgf = rgf.drop('genres', axis=1).join(s)\n",
    "genres_train = gen_rgf['genre'].drop_duplicates()"
   ]
  },
  {
   "cell_type": "code",
   "execution_count": 123,
   "metadata": {
    "_cell_guid": "b663dd18-874a-4cb3-ae0b-dff3c61c791a",
    "_uuid": "5febc08099ab83174e5218146c3feb2818f87b50"
   },
   "outputs": [],
   "source": [
    "def feature_engineering(df):\n",
    "    df['belongs_to_collection'] = df['belongs_to_collection'].apply(lambda x: 0 if x == np.nan else 1)\n",
    "    for genre in genres_train:\n",
    "        df['is_' + str(genre)] = df['genres'].apply(lambda x: 1 if genre in x else 0)\n",
    "    df['genres'] = df['genres'].apply(lambda x: len(x))\n",
    "    df['homepage'] = df['homepage'].apply(lambda x: 0 if x == np.nan else 1)\n",
    "    df['is_english'] = df['original_language'].apply(lambda x: 1 if x=='en' else 0)\n",
    "    df = df.drop('original_language', axis=1)\n",
    "    df['production_companies'] = df['production_companies'].apply(lambda x: len(x))\n",
    "    df['production_countries'] = df['production_countries'].apply(lambda x: len(x))\n",
    "    df['is_Friday'] = df['day'].apply(lambda x: 1 if x=='Fri' else 0)\n",
    "    df = df.drop('day', axis=1)\n",
    "    df['is_Holiday'] = df['month'].apply(lambda x: 1 if x in ['Apr', 'May', 'Jun', 'Nov'] else 0)\n",
    "    df = df.drop('month', axis=1)\n",
    "    df = df.drop(['title', 'cast', 'director'], axis=1)\n",
    "    df = pd.get_dummies(df, prefix='is')\n",
    "    df['runtime'] = df['runtime'].fillna(df['runtime'].mean())\n",
    "    df['vote_average'] = df['vote_average'].fillna(df['vote_average'].mean())\n",
    "    return df"
   ]
  },
  {
   "cell_type": "code",
   "execution_count": 124,
   "metadata": {
    "_cell_guid": "4072fb86-b730-4b23-9493-3d06e0cd49f7",
    "_uuid": "44a734c5aba5387d6acbed12fd5479801e3092fd"
   },
   "outputs": [],
   "source": [
    "X, y = rgf.drop('revenue', axis=1), rgf['revenue']"
   ]
  },
  {
   "cell_type": "code",
   "execution_count": 125,
   "metadata": {
    "_cell_guid": "190c8e59-4eb4-4b1a-ae59-47acb0e5fe76",
    "_uuid": "6ab122ec0ef30637b0d6739843680165ac6822af"
   },
   "outputs": [],
   "source": [
    "X = feature_engineering(X)"
   ]
  },
  {
   "cell_type": "code",
   "execution_count": 126,
   "metadata": {
    "_cell_guid": "dd8dd8db-cf22-436d-a4c4-2553cb859eb4",
    "_uuid": "6c0149dc1f6044015080d22fc186c6e129a9d93a"
   },
   "outputs": [],
   "source": [
    "train_X, test_X, train_y, test_y = train_test_split(X, y, train_size=0.75, test_size=0.25)"
   ]
  },
  {
   "cell_type": "code",
   "execution_count": 127,
   "metadata": {
    "_cell_guid": "41df6726-c3bf-4eab-945f-11903e9296cb",
    "_uuid": "5ddbae87b14b3644b84195dd8513af0d4e43555e"
   },
   "outputs": [
    {
     "data": {
      "text/plain": [
       "(5393, 38)"
      ]
     },
     "execution_count": 127,
     "metadata": {},
     "output_type": "execute_result"
    }
   ],
   "source": [
    "X.shape"
   ]
  },
  {
   "cell_type": "code",
   "execution_count": 128,
   "metadata": {
    "_cell_guid": "09bce1dd-f84f-4cb7-8c42-9a5b4aaf8e01",
    "_uuid": "a5a5b6c388e571fec420b2ae56fada7a29e14445"
   },
   "outputs": [
    {
     "data": {
      "text/plain": [
       "0.7774976905752037"
      ]
     },
     "execution_count": 128,
     "metadata": {},
     "output_type": "execute_result"
    }
   ],
   "source": [
    "reg = GradientBoostingRegressor()\n",
    "reg.fit(train_X, train_y)\n",
    "reg.score(test_X, test_y)"
   ]
  },
  {
   "cell_type": "code",
   "execution_count": 172,
   "metadata": {},
   "outputs": [
    {
     "data": {
      "text/plain": [
       "0.20125304046170167"
      ]
     },
     "execution_count": 172,
     "metadata": {},
     "output_type": "execute_result"
    }
   ],
   "source": [
    "from sklearn.tree import DecisionTreeRegressor\n",
    "\n",
    "regr_2 = DecisionTreeRegressor(max_depth=5)\n",
    "regr_2.fit(train_X, train_y)\n",
    "regr_2.score(test_X, test_y)"
   ]
  },
  {
   "cell_type": "code",
   "execution_count": 130,
   "metadata": {
    "_cell_guid": "485bb892-ae1b-4449-b03e-599694f80e9e",
    "_uuid": "3a4d7157e8f439d612e1a844e394999e7a99818f"
   },
   "outputs": [
    {
     "data": {
      "text/plain": [
       "<matplotlib.axes._subplots.AxesSubplot at 0x2026b40d5c8>"
      ]
     },
     "execution_count": 130,
     "metadata": {},
     "output_type": "execute_result"
    },
    {
     "data": {
      "image/png": "[encoded data removed]",
      "text/plain": [
       "<Figure size 720x864 with 1 Axes>"
      ]
     },
     "metadata": {},
     "output_type": "display_data"
    }
   ],
   "source": [
    "sns.set_style('whitegrid')\n",
    "plt.figure(figsize=(10,12))\n",
    "sns.barplot(x=reg.feature_importances_, y=X.columns)"
   ]
  },
  {
   "cell_type": "markdown",
   "metadata": {},
   "source": [
    "## Classification"
   ]
  },
  {
   "cell_type": "code",
   "execution_count": 131,
   "metadata": {
    "_cell_guid": "a70684bb-c18e-4978-9ab2-8de1443d7b1e",
    "_uuid": "1459d50f5c7c7eccff72749aac92c8313f6dcfdb"
   },
   "outputs": [
    {
     "data": {
      "text/plain": [
       "(5393, 30)"
      ]
     },
     "execution_count": 131,
     "metadata": {},
     "output_type": "execute_result"
    }
   ],
   "source": [
    "cls = df[df['return'].notnull()]\n",
    "cls.shape"
   ]
  },
  {
   "cell_type": "code",
   "execution_count": 132,
   "metadata": {
    "_cell_guid": "6ac30c62-931e-4f21-bb6a-70698ada49c6",
    "_uuid": "48fa3d79d52ddd19b962d8b37625f47e66eeeafe"
   },
   "outputs": [
    {
     "data": {
      "text/plain": [
       "Index(['belongs_to_collection', 'budget', 'genres', 'homepage', 'id',\n",
       "       'original_language', 'overview', 'popularity', 'poster_path',\n",
       "       'production_companies', 'production_countries', 'release_date',\n",
       "       'revenue', 'runtime', 'spoken_languages', 'status', 'tagline', 'title',\n",
       "       'video', 'vote_average', 'vote_count', 'return', 'year', 'day', 'month',\n",
       "       'cast', 'crew', 'cast_size', 'crew_size', 'director'],\n",
       "      dtype='object')"
      ]
     },
     "execution_count": 132,
     "metadata": {},
     "output_type": "execute_result"
    }
   ],
   "source": [
    "cls.columns"
   ]
  },
  {
   "cell_type": "code",
   "execution_count": 133,
   "metadata": {
    "_cell_guid": "dbf4badb-3db6-4511-bdb5-e01f3a42f01e",
    "_uuid": "1bdb2123d7ba44c56647c29804c085ba6db89297"
   },
   "outputs": [],
   "source": [
    "cls = cls.drop(['id', 'overview', 'poster_path', 'release_date', 'status', 'tagline', 'revenue'], axis=1)"
   ]
  },
  {
   "cell_type": "code",
   "execution_count": 134,
   "metadata": {
    "_cell_guid": "fae9fe96-973e-49e7-a3c7-4d6162c2af0e",
    "_uuid": "6c556a638eeaab87e6b187a8720fc95783fd6784"
   },
   "outputs": [],
   "source": [
    "cls['return'] = cls['return'].apply(lambda x: 1 if x >=1 else 0)"
   ]
  },
  {
   "cell_type": "code",
   "execution_count": 135,
   "metadata": {
    "_cell_guid": "d547ebd4-86be-4631-8ed1-1db6970934f5",
    "_uuid": "6d2395f11b69fc3167d3a326a17402e0601d10d1"
   },
   "outputs": [
    {
     "data": {
      "text/plain": [
       "1    3784\n",
       "0    1609\n",
       "Name: return, dtype: int64"
      ]
     },
     "execution_count": 135,
     "metadata": {},
     "output_type": "execute_result"
    }
   ],
   "source": [
    "cls['return'].value_counts()"
   ]
  },
  {
   "cell_type": "code",
   "execution_count": 136,
   "metadata": {
    "_cell_guid": "8c93f598-043f-431e-b440-c2a5273a7f68",
    "_uuid": "e0470b8ccbafd54c52f11582428443b33878220e"
   },
   "outputs": [],
   "source": [
    "cls['belongs_to_collection'] = cls['belongs_to_collection'].fillna('').apply(lambda x: 0 if x == '' else 1)"
   ]
  },
  {
   "cell_type": "code",
   "execution_count": 139,
   "metadata": {
    "_cell_guid": "ed50654d-e319-44f8-b857-d478840a28e4",
    "_uuid": "d4e95f2e68cff6ace2e069d49170f1fd1c8c60d9"
   },
   "outputs": [],
   "source": [
    "s = cls.apply(lambda x: pd.Series(x['genres']),axis=1).stack().reset_index(level=1, drop=True)\n",
    "s.name = 'genre'\n",
    "gen_cls = cls.drop('genres', axis=1).join(s)"
   ]
  },
  {
   "cell_type": "code",
   "execution_count": 140,
   "metadata": {
    "_cell_guid": "d448a450-ef85-4505-874e-5481e2a89468",
    "_uuid": "af73ca3c7770951b0a2febce71d80c468c9b53db"
   },
   "outputs": [
    {
     "data": {
      "text/plain": [
       "Index(['belongs_to_collection', 'budget', 'genres', 'homepage',\n",
       "       'original_language', 'popularity', 'production_companies',\n",
       "       'production_countries', 'runtime', 'spoken_languages', 'title', 'video',\n",
       "       'vote_average', 'vote_count', 'return', 'year', 'day', 'month', 'cast',\n",
       "       'crew', 'cast_size', 'crew_size', 'director'],\n",
       "      dtype='object')"
      ]
     },
     "execution_count": 140,
     "metadata": {},
     "output_type": "execute_result"
    }
   ],
   "source": [
    "cls.columns"
   ]
  },
  {
   "cell_type": "code",
   "execution_count": 141,
   "metadata": {
    "_cell_guid": "f9c4ab54-678f-43a8-99a6-e5cffa59007e",
    "_uuid": "e091f13699b3cc7ca77a69c0f6f9ef4d270783e4"
   },
   "outputs": [],
   "source": [
    "def classification_engineering(df):\n",
    "    for genre in genres_train:\n",
    "        df['is_' + str(genre)] = df['genres'].apply(lambda x: 1 if genre in x else 0)\n",
    "    df['genres'] = df['genres'].apply(lambda x: len(x))\n",
    "    df = df.drop('homepage', axis=1)\n",
    "    df['is_english'] = df['original_language'].apply(lambda x: 1 if x=='en' else 0)\n",
    "    df = df.drop('original_language', axis=1)\n",
    "    df['production_companies'] = df['production_companies'].apply(lambda x: len(x))\n",
    "    df['production_countries'] = df['production_countries'].apply(lambda x: len(x))\n",
    "    df['is_Friday'] = df['day'].apply(lambda x: 1 if x=='Fri' else 0)\n",
    "    df = df.drop('day', axis=1)\n",
    "    df['is_Holiday'] = df['month'].apply(lambda x: 1 if x in ['Apr', 'May', 'Jun', 'Nov'] else 0)\n",
    "    df = df.drop('month', axis=1)\n",
    "    df = df.drop(['title', 'cast', 'director'], axis=1)\n",
    "    #df = pd.get_dummies(df, prefix='is')\n",
    "    df['runtime'] = df['runtime'].fillna(df['runtime'].mean())\n",
    "    df['vote_average'] = df['vote_average'].fillna(df['vote_average'].mean())\n",
    "    df = df.drop('crew', axis=1)\n",
    "    return df\n",
    "    "
   ]
  },
  {
   "cell_type": "code",
   "execution_count": 142,
   "metadata": {
    "_cell_guid": "92719cc8-b0a5-45a0-9985-0d53b80f5137",
    "_uuid": "3d5fe03e840a5b8a1592388f04a100f1e41e527d"
   },
   "outputs": [],
   "source": [
    "cls = classification_engineering(cls)"
   ]
  },
  {
   "cell_type": "code",
   "execution_count": 143,
   "metadata": {
    "_cell_guid": "aa858cfc-6b09-4b59-8b2c-5c4d4233e36a",
    "_uuid": "123339865a20aa9be00b4606e20f8bba04676760"
   },
   "outputs": [
    {
     "data": {
      "text/plain": [
       "Index(['belongs_to_collection', 'budget', 'genres', 'popularity',\n",
       "       'production_companies', 'production_countries', 'runtime',\n",
       "       'spoken_languages', 'video', 'vote_average', 'vote_count', 'return',\n",
       "       'year', 'cast_size', 'crew_size', 'is_Animation', 'is_Comedy',\n",
       "       'is_Family', 'is_Adventure', 'is_Fantasy', 'is_Drama', 'is_Romance',\n",
       "       'is_Action', 'is_Crime', 'is_Thriller', 'is_History',\n",
       "       'is_Science Fiction', 'is_Mystery', 'is_Horror', 'is_War', 'is_Foreign',\n",
       "       'is_Documentary', 'is_Western', 'is_Music', 'is_nan', 'is_TV Movie',\n",
       "       'is_english', 'is_Friday', 'is_Holiday'],\n",
       "      dtype='object')"
      ]
     },
     "execution_count": 143,
     "metadata": {},
     "output_type": "execute_result"
    }
   ],
   "source": [
    "cls.columns"
   ]
  },
  {
   "cell_type": "code",
   "execution_count": 144,
   "metadata": {
    "_cell_guid": "a21faa74-1c61-4742-9746-bc3f394b9974",
    "_uuid": "b0205a24e6143ae7372acb38c5dee362584ca78e"
   },
   "outputs": [],
   "source": [
    "X, y = cls.drop('return', axis=1), cls['return']"
   ]
  },
  {
   "cell_type": "code",
   "execution_count": 145,
   "metadata": {
    "_cell_guid": "831b76dc-7d82-47e2-ac19-b05a3dd5f503",
    "_uuid": "5704343ebceb40629645f7ec1148d70b3d19d82f"
   },
   "outputs": [],
   "source": [
    "train_X, test_X, train_y, test_y = train_test_split(X, y, train_size=0.75, test_size=0.25, stratify=y)"
   ]
  },
  {
   "cell_type": "code",
   "execution_count": 146,
   "metadata": {
    "_cell_guid": "1041ae59-9445-46e3-8ee3-65c4f6f99332",
    "_uuid": "9adb2eaeb4ce954129cb5fa555083f022fb438b3"
   },
   "outputs": [
    {
     "data": {
      "text/plain": [
       "0.8005930318754633"
      ]
     },
     "execution_count": 146,
     "metadata": {},
     "output_type": "execute_result"
    }
   ],
   "source": [
    "clf = GradientBoostingClassifier()\n",
    "clf.fit(train_X, train_y)\n",
    "clf.score(test_X, test_y)"
   ]
  },
  {
   "cell_type": "code",
   "execution_count": 147,
   "metadata": {},
   "outputs": [
    {
     "data": {
      "text/plain": [
       "SVC(C=1.0, cache_size=200, class_weight=None, coef0=0.0,\n",
       "    decision_function_shape='ovr', degree=3, gamma='auto_deprecated',\n",
       "    kernel='rbf', max_iter=-1, probability=False, random_state=None,\n",
       "    shrinking=True, tol=0.001, verbose=False)"
      ]
     },
     "execution_count": 147,
     "metadata": {},
     "output_type": "execute_result"
    }
   ],
   "source": [
    "from sklearn import svm\n",
    "clf2 = svm.SVC()\n",
    "clf2.fit(train_X, train_y)\n"
   ]
  },
  {
   "cell_type": "code",
   "execution_count": 148,
   "metadata": {},
   "outputs": [
    {
     "data": {
      "text/plain": [
       "0.7034840622683469"
      ]
     },
     "execution_count": 148,
     "metadata": {},
     "output_type": "execute_result"
    }
   ],
   "source": [
    "clf2.score(test_X, test_y)"
   ]
  },
  {
   "cell_type": "code",
   "execution_count": 150,
   "metadata": {
    "_cell_guid": "3f95f0c9-f8ed-4bac-8ace-7c786efff10b",
    "_uuid": "1f5a4fe4c37190e32081354f8f1249e6d82964fc"
   },
   "outputs": [
    {
     "data": {
      "text/plain": [
       "<matplotlib.axes._subplots.AxesSubplot at 0x2026b2ed0c8>"
      ]
     },
     "execution_count": 150,
     "metadata": {},
     "output_type": "execute_result"
    },
    {
     "data": {
      "image/png": "[encoded data removed]",
      "text/plain": [
       "<Figure size 720x864 with 1 Axes>"
      ]
     },
     "metadata": {},
     "output_type": "display_data"
    }
   ],
   "source": [
    "plt.figure(figsize=(10,12))\n",
    "sns.barplot(x=clf.feature_importances_, y=X.columns)"
   ]
  },
  {
   "cell_type": "code",
   "execution_count": null,
   "metadata": {},
   "outputs": [],
   "source": []
  },
  {
   "cell_type": "code",
   "execution_count": null,
   "metadata": {},
   "outputs": [],
   "source": []
  },
  {
   "cell_type": "code",
   "execution_count": null,
   "metadata": {},
   "outputs": [],
   "source": []
  },
  {
   "cell_type": "code",
   "execution_count": null,
   "metadata": {},
   "outputs": [],
   "source": []
  },
  {
   "cell_type": "code",
   "execution_count": null,
   "metadata": {},
   "outputs": [],
   "source": []
  },
  {
   "cell_type": "code",
   "execution_count": null,
   "metadata": {},
   "outputs": [],
   "source": []
  }
 ],
 "metadata": {
  "kernelspec": {
   "display_name": "Python 3",
   "language": "python",
   "name": "python3"
  },
  "language_info": {
   "codemirror_mode": {
    "name": "ipython",
    "version": 3
   },
   "file_extension": ".py",
   "mimetype": "text/x-python",
   "name": "python",
   "nbconvert_exporter": "python",
   "pygments_lexer": "ipython3",
   "version": "3.7.5"
  }
 },
 "nbformat": 4,
 "nbformat_minor": 1
}
